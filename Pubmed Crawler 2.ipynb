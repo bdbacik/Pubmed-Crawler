{
 "cells": [
  {
   "cell_type": "markdown",
   "metadata": {},
   "source": [
    "# Pubmed Crawler\n",
    "Author: Brian Bacik"
   ]
  },
  {
   "cell_type": "code",
   "execution_count": 372,
   "metadata": {},
   "outputs": [],
   "source": [
    "import pandas as pd\n",
    "import datetime\n",
    "from datetime import date\n",
    "import plotly.express as px\n",
    "import plotly.graph_objects as go\n",
    "from plotly.subplots import make_subplots\n",
    "import sqlite3\n",
    "import numpy as np\n",
    "import boto3"
   ]
  },
  {
   "cell_type": "markdown",
   "metadata": {
    "id": "_eKqyG7wWIS1"
   },
   "source": [
    "# Module 1\n",
    "\n",
    "Pubmed crawler module tht can collect paper title, author list, publication time, and abstract from PUBMED for a given keyword (i.e., COVID-19 Vaccine) within a specified time window."
   ]
  },
  {
   "cell_type": "code",
   "execution_count": 381,
   "metadata": {},
   "outputs": [
    {
     "name": "stdout",
     "output_type": "stream",
     "text": [
      "2021/03/08 2021/03/01\n"
     ]
    }
   ],
   "source": [
    "#get date ranges to use in pubmed query\n",
    "today = date.today()\n",
    "cur_date = today.strftime(\"%Y/%m/%d\")\n",
    "\n",
    "last_week = (today-datetime.timedelta(days=7)).strftime(\"%Y/%m/%d\")\n",
    "print(cur_date, last_week)"
   ]
  },
  {
   "cell_type": "markdown",
   "metadata": {},
   "source": [
    "### Pubmed crawler function"
   ]
  },
  {
   "cell_type": "code",
   "execution_count": 173,
   "metadata": {
    "id": "VJF9ttvnWIS4"
   },
   "outputs": [],
   "source": [
    "#write Pubmed search query\n",
    "from Bio import Entrez\n",
    "\n",
    "#returns list of article ids that contain keyword \n",
    "def search(query):\n",
    "    Entrez.email = 'bdbacik@gmail.com'\n",
    "    handle = Entrez.esearch(db='pubmed',\n",
    "                            sort='relevance',\n",
    "                            retmax='100000',\n",
    "                            retmode='xml',\n",
    "                            datetype='pdat',\n",
    "                            mindate=last_week,\n",
    "                            maxdate=cur_date,\n",
    "                            term=query)\n",
    "    search_results = Entrez.read(handle)\n",
    "    return search_results\n",
    "\n",
    "#users article ids as input and returns dictionary with article details\n",
    "def fetch_details(id_list):\n",
    "    ids = ','.join(id_list)\n",
    "    Entrez.email = 'bdbacik@gmail.com'\n",
    "    handle = Entrez.efetch(db='pubmed',\n",
    "                           retmode='xml',\n",
    "                           id=ids)\n",
    "    fetch_results = Entrez.read(handle)\n",
    "    return fetch_results\n",
    "\n",
    "\n",
    "if __name__ == '__main__':\n",
    "    search_results = search('COVID-19 vaccine')\n",
    "    id_list = search_results['IdList']\n",
    "    fetch_results = fetch_details(id_list)"
   ]
  },
  {
   "cell_type": "code",
   "execution_count": 382,
   "metadata": {},
   "outputs": [
    {
     "name": "stdout",
     "output_type": "stream",
     "text": [
      "length of esearch output:  4335\n",
      "length of efetch output:  4333\n"
     ]
    }
   ],
   "source": [
    "print('length of esearch output: ', len([item for item in search_results['IdList']]))\n",
    "print('length of efetch output: ', len([key for key in fetch_results['PubmedArticle']]))"
   ]
  },
  {
   "cell_type": "markdown",
   "metadata": {},
   "source": [
    "### Convert crawler output to pandas dataframe"
   ]
  },
  {
   "cell_type": "code",
   "execution_count": 317,
   "metadata": {
    "colab": {
     "base_uri": "https://localhost:8080/",
     "height": 204
    },
    "id": "vRmpQqM5WIS8",
    "outputId": "bbb9689a-9d09-4246-8d5e-1dcf7be36e8c"
   },
   "outputs": [
    {
     "data": {
      "text/html": [
       "<div>\n",
       "<style scoped>\n",
       "    .dataframe tbody tr th:only-of-type {\n",
       "        vertical-align: middle;\n",
       "    }\n",
       "\n",
       "    .dataframe tbody tr th {\n",
       "        vertical-align: top;\n",
       "    }\n",
       "\n",
       "    .dataframe thead th {\n",
       "        text-align: right;\n",
       "    }\n",
       "</style>\n",
       "<table border=\"1\" class=\"dataframe\">\n",
       "  <thead>\n",
       "    <tr style=\"text-align: right;\">\n",
       "      <th></th>\n",
       "      <th>Title</th>\n",
       "      <th>Keywords</th>\n",
       "      <th>PublicationDate</th>\n",
       "      <th>Authors</th>\n",
       "      <th>Abstract</th>\n",
       "      <th>Country</th>\n",
       "    </tr>\n",
       "  </thead>\n",
       "  <tbody>\n",
       "    <tr>\n",
       "      <th>0</th>\n",
       "      <td>COVID-19 vaccines: ethical framework concernin...</td>\n",
       "      <td>[[COVID-19 vaccines, Human challenge studies, ...</td>\n",
       "      <td>{'Year': '2020', 'Month': 'Dec'}</td>\n",
       "      <td>[{'AffiliationInfo': [{'Identifier': [], 'Affi...</td>\n",
       "      <td>The pandemic associated with the new SARS-CoV-...</td>\n",
       "      <td>Switzerland</td>\n",
       "    </tr>\n",
       "    <tr>\n",
       "      <th>1</th>\n",
       "      <td>Coronavirus Disease 2019 (COVID-19) Vaccines a...</td>\n",
       "      <td>[]</td>\n",
       "      <td>{'Year': '2021', 'Month': '03', 'Day': '01'}</td>\n",
       "      <td>[{'AffiliationInfo': [{'Identifier': [], 'Affi...</td>\n",
       "      <td>Coronavirus disease 2019 (COVID-19) vaccines h...</td>\n",
       "      <td>United States</td>\n",
       "    </tr>\n",
       "    <tr>\n",
       "      <th>2</th>\n",
       "      <td>Unfolding the Determinants of COVID-19 Vaccine...</td>\n",
       "      <td>[[COVID-19, COVID-19 vaccination, COVID-19 vac...</td>\n",
       "      <td>{'Year': '2021', 'Month': '01', 'Day': '15'}</td>\n",
       "      <td>[{'AffiliationInfo': [{'Identifier': [], 'Affi...</td>\n",
       "      <td>China is at the forefront of global efforts to...</td>\n",
       "      <td>Canada</td>\n",
       "    </tr>\n",
       "    <tr>\n",
       "      <th>3</th>\n",
       "      <td>Learning from the past: development of safe an...</td>\n",
       "      <td>[]</td>\n",
       "      <td>{'Year': '2021', 'Month': '03'}</td>\n",
       "      <td>[{'AffiliationInfo': [{'Identifier': [], 'Affi...</td>\n",
       "      <td>The rapid spread of severe acute respiratory s...</td>\n",
       "      <td>England</td>\n",
       "    </tr>\n",
       "    <tr>\n",
       "      <th>4</th>\n",
       "      <td>COVID-19 Vaccines: Preparing for Vaccination i...</td>\n",
       "      <td>[[COVID-19 vaccine, cancer, cancer program saf...</td>\n",
       "      <td>{'Year': '2021', 'Month': 'Feb', 'Day': '01'}</td>\n",
       "      <td>[{'AffiliationInfo': [{'Identifier': [], 'Affi...</td>\n",
       "      <td>In the environment of an infectious pandemic, ...</td>\n",
       "      <td>United States</td>\n",
       "    </tr>\n",
       "  </tbody>\n",
       "</table>\n",
       "</div>"
      ],
      "text/plain": [
       "                                               Title  \\\n",
       "0  COVID-19 vaccines: ethical framework concernin...   \n",
       "1  Coronavirus Disease 2019 (COVID-19) Vaccines a...   \n",
       "2  Unfolding the Determinants of COVID-19 Vaccine...   \n",
       "3  Learning from the past: development of safe an...   \n",
       "4  COVID-19 Vaccines: Preparing for Vaccination i...   \n",
       "\n",
       "                                            Keywords  \\\n",
       "0  [[COVID-19 vaccines, Human challenge studies, ...   \n",
       "1                                                 []   \n",
       "2  [[COVID-19, COVID-19 vaccination, COVID-19 vac...   \n",
       "3                                                 []   \n",
       "4  [[COVID-19 vaccine, cancer, cancer program saf...   \n",
       "\n",
       "                                 PublicationDate  \\\n",
       "0               {'Year': '2020', 'Month': 'Dec'}   \n",
       "1   {'Year': '2021', 'Month': '03', 'Day': '01'}   \n",
       "2   {'Year': '2021', 'Month': '01', 'Day': '15'}   \n",
       "3                {'Year': '2021', 'Month': '03'}   \n",
       "4  {'Year': '2021', 'Month': 'Feb', 'Day': '01'}   \n",
       "\n",
       "                                             Authors  \\\n",
       "0  [{'AffiliationInfo': [{'Identifier': [], 'Affi...   \n",
       "1  [{'AffiliationInfo': [{'Identifier': [], 'Affi...   \n",
       "2  [{'AffiliationInfo': [{'Identifier': [], 'Affi...   \n",
       "3  [{'AffiliationInfo': [{'Identifier': [], 'Affi...   \n",
       "4  [{'AffiliationInfo': [{'Identifier': [], 'Affi...   \n",
       "\n",
       "                                            Abstract        Country  \n",
       "0  The pandemic associated with the new SARS-CoV-...    Switzerland  \n",
       "1  Coronavirus disease 2019 (COVID-19) vaccines h...  United States  \n",
       "2  China is at the forefront of global efforts to...         Canada  \n",
       "3  The rapid spread of severe acute respiratory s...        England  \n",
       "4  In the environment of an infectious pandemic, ...  United States  "
      ]
     },
     "execution_count": 317,
     "metadata": {},
     "output_type": "execute_result"
    }
   ],
   "source": [
    "#pull relevant fields from query into pandas dataframe\n",
    "\n",
    "searchoutput = {\"Title\":[], \"Keywords\":[], \"PublicationDate\": [], \"Authors\": [], \n",
    "                \"Abstract\": [], 'Country':[]}\n",
    "for i, paper in enumerate(fetch_results['PubmedArticle']): \n",
    "    try:\n",
    "        Title = paper['MedlineCitation']['Article']['ArticleTitle']\n",
    "        Keywords = paper['MedlineCitation']['KeywordList']\n",
    "        PublicationDate = paper['MedlineCitation']['Article']['Journal']['JournalIssue']['PubDate']#['Month']\n",
    "        Authors = paper['MedlineCitation']['Article']['AuthorList']\n",
    "        Abstract = paper['MedlineCitation']['Article']['Abstract']['AbstractText'][0]\n",
    "        Country = paper['MedlineCitation']['MedlineJournalInfo']['Country']\n",
    "    except KeyError as e:\n",
    "        continue\n",
    "    searchoutput[\"Title\"].append(Title)\n",
    "    searchoutput[\"Keywords\"].append(Keywords)\n",
    "    searchoutput[\"PublicationDate\"].append(PublicationDate)\n",
    "    searchoutput[\"Authors\"].append(Authors)\n",
    "    searchoutput[\"Abstract\"].append(str(Abstract))\n",
    "    searchoutput[\"Country\"].append(Country)\n",
    "\n",
    "df = pd.DataFrame(searchoutput)\n",
    "\n",
    "df.head()"
   ]
  },
  {
   "cell_type": "code",
   "execution_count": 319,
   "metadata": {},
   "outputs": [
    {
     "data": {
      "text/html": [
       "<div>\n",
       "<style scoped>\n",
       "    .dataframe tbody tr th:only-of-type {\n",
       "        vertical-align: middle;\n",
       "    }\n",
       "\n",
       "    .dataframe tbody tr th {\n",
       "        vertical-align: top;\n",
       "    }\n",
       "\n",
       "    .dataframe thead th {\n",
       "        text-align: right;\n",
       "    }\n",
       "</style>\n",
       "<table border=\"1\" class=\"dataframe\">\n",
       "  <thead>\n",
       "    <tr style=\"text-align: right;\">\n",
       "      <th></th>\n",
       "      <th>Title</th>\n",
       "      <th>Keywords</th>\n",
       "      <th>Authors</th>\n",
       "      <th>Abstract</th>\n",
       "      <th>Country</th>\n",
       "      <th>Pub_Date</th>\n",
       "    </tr>\n",
       "  </thead>\n",
       "  <tbody>\n",
       "    <tr>\n",
       "      <th>0</th>\n",
       "      <td>COVID-19 vaccines: ethical framework concernin...</td>\n",
       "      <td>[[COVID-19 vaccines, Human challenge studies, ...</td>\n",
       "      <td>[{'AffiliationInfo': [{'Identifier': [], 'Affi...</td>\n",
       "      <td>The pandemic associated with the new SARS-CoV-...</td>\n",
       "      <td>Switzerland</td>\n",
       "      <td>2020-12</td>\n",
       "    </tr>\n",
       "    <tr>\n",
       "      <th>1</th>\n",
       "      <td>Coronavirus Disease 2019 (COVID-19) Vaccines a...</td>\n",
       "      <td>[]</td>\n",
       "      <td>[{'AffiliationInfo': [{'Identifier': [], 'Affi...</td>\n",
       "      <td>Coronavirus disease 2019 (COVID-19) vaccines h...</td>\n",
       "      <td>United States</td>\n",
       "      <td>2021-03</td>\n",
       "    </tr>\n",
       "    <tr>\n",
       "      <th>2</th>\n",
       "      <td>Unfolding the Determinants of COVID-19 Vaccine...</td>\n",
       "      <td>[[COVID-19, COVID-19 vaccination, COVID-19 vac...</td>\n",
       "      <td>[{'AffiliationInfo': [{'Identifier': [], 'Affi...</td>\n",
       "      <td>China is at the forefront of global efforts to...</td>\n",
       "      <td>Canada</td>\n",
       "      <td>2021-01</td>\n",
       "    </tr>\n",
       "    <tr>\n",
       "      <th>3</th>\n",
       "      <td>Learning from the past: development of safe an...</td>\n",
       "      <td>[]</td>\n",
       "      <td>[{'AffiliationInfo': [{'Identifier': [], 'Affi...</td>\n",
       "      <td>The rapid spread of severe acute respiratory s...</td>\n",
       "      <td>England</td>\n",
       "      <td>2021-03</td>\n",
       "    </tr>\n",
       "    <tr>\n",
       "      <th>4</th>\n",
       "      <td>COVID-19 Vaccines: Preparing for Vaccination i...</td>\n",
       "      <td>[[COVID-19 vaccine, cancer, cancer program saf...</td>\n",
       "      <td>[{'AffiliationInfo': [{'Identifier': [], 'Affi...</td>\n",
       "      <td>In the environment of an infectious pandemic, ...</td>\n",
       "      <td>United States</td>\n",
       "      <td>2021-02</td>\n",
       "    </tr>\n",
       "  </tbody>\n",
       "</table>\n",
       "</div>"
      ],
      "text/plain": [
       "                                               Title  \\\n",
       "0  COVID-19 vaccines: ethical framework concernin...   \n",
       "1  Coronavirus Disease 2019 (COVID-19) Vaccines a...   \n",
       "2  Unfolding the Determinants of COVID-19 Vaccine...   \n",
       "3  Learning from the past: development of safe an...   \n",
       "4  COVID-19 Vaccines: Preparing for Vaccination i...   \n",
       "\n",
       "                                            Keywords  \\\n",
       "0  [[COVID-19 vaccines, Human challenge studies, ...   \n",
       "1                                                 []   \n",
       "2  [[COVID-19, COVID-19 vaccination, COVID-19 vac...   \n",
       "3                                                 []   \n",
       "4  [[COVID-19 vaccine, cancer, cancer program saf...   \n",
       "\n",
       "                                             Authors  \\\n",
       "0  [{'AffiliationInfo': [{'Identifier': [], 'Affi...   \n",
       "1  [{'AffiliationInfo': [{'Identifier': [], 'Affi...   \n",
       "2  [{'AffiliationInfo': [{'Identifier': [], 'Affi...   \n",
       "3  [{'AffiliationInfo': [{'Identifier': [], 'Affi...   \n",
       "4  [{'AffiliationInfo': [{'Identifier': [], 'Affi...   \n",
       "\n",
       "                                            Abstract        Country Pub_Date  \n",
       "0  The pandemic associated with the new SARS-CoV-...    Switzerland  2020-12  \n",
       "1  Coronavirus disease 2019 (COVID-19) vaccines h...  United States  2021-03  \n",
       "2  China is at the forefront of global efforts to...         Canada  2021-01  \n",
       "3  The rapid spread of severe acute respiratory s...        England  2021-03  \n",
       "4  In the environment of an infectious pandemic, ...  United States  2021-02  "
      ]
     },
     "execution_count": 319,
     "metadata": {},
     "output_type": "execute_result"
    }
   ],
   "source": [
    "#get publication date in YYYYMM \n",
    "df['Pub_Year'] = [str(d.get('Year')) for d in df['PublicationDate']]\n",
    "df['Pub_Month'] = [str(d.get('Month')) for d in df['PublicationDate']]\n",
    "df[\"Pub_Month\"] = df[\"Pub_Month\"].replace([\"Jan\",\"Feb\",\"Mar\",\"Apr\",\"May\",\"Jun\",\"Jul\",\"Aug\",\"Sep\",\"Oct\",\"Nov\",\"Dec\"],[\"01\",\"02\",\"03\",\"04\",\"05\",\"06\",\"07\",\"08\",\"09\",\"10\",\"11\",\"12\"])\n",
    "df['Pub_Date'] = pd.to_datetime(df.Pub_Year+'-'+df.Pub_Month, errors='ignore')\n",
    "df = df.drop(columns=['PublicationDate','Pub_Year','Pub_Month'])\n",
    "df.head()"
   ]
  },
  {
   "cell_type": "code",
   "execution_count": 320,
   "metadata": {},
   "outputs": [
    {
     "data": {
      "text/plain": [
       "2021-02      458\n",
       "2021-01      389\n",
       "2020-12      367\n",
       "2020-11      295\n",
       "2020-10      287\n",
       "2020-None    273\n",
       "2020-09      242\n",
       "2020-08      213\n",
       "2020-07      192\n",
       "2020-06      152\n",
       "2021-03      113\n",
       "2020-05      106\n",
       "None-None     96\n",
       "2021-None     58\n",
       "2020-04       55\n",
       "2020-03       27\n",
       "2021-04       24\n",
       "2021-05        5\n",
       "2020-02        1\n",
       "2021-12        1\n",
       "2021-06        1\n",
       "Name: Pub_Date, dtype: int64"
      ]
     },
     "execution_count": 320,
     "metadata": {},
     "output_type": "execute_result"
    }
   ],
   "source": [
    "df['Pub_Date'].value_counts()"
   ]
  },
  {
   "cell_type": "markdown",
   "metadata": {},
   "source": [
    "### Create separate dataframes for multi-value attribute fields"
   ]
  },
  {
   "cell_type": "code",
   "execution_count": 321,
   "metadata": {
    "scrolled": true
   },
   "outputs": [
    {
     "data": {
      "text/html": [
       "<div>\n",
       "<style scoped>\n",
       "    .dataframe tbody tr th:only-of-type {\n",
       "        vertical-align: middle;\n",
       "    }\n",
       "\n",
       "    .dataframe tbody tr th {\n",
       "        vertical-align: top;\n",
       "    }\n",
       "\n",
       "    .dataframe thead th {\n",
       "        text-align: right;\n",
       "    }\n",
       "</style>\n",
       "<table border=\"1\" class=\"dataframe\">\n",
       "  <thead>\n",
       "    <tr style=\"text-align: right;\">\n",
       "      <th></th>\n",
       "      <th>Title</th>\n",
       "      <th>Keywords</th>\n",
       "    </tr>\n",
       "  </thead>\n",
       "  <tbody>\n",
       "    <tr>\n",
       "      <th>0</th>\n",
       "      <td>COVID-19 vaccines: ethical framework concernin...</td>\n",
       "      <td>covid-19 vaccines</td>\n",
       "    </tr>\n",
       "    <tr>\n",
       "      <th>0</th>\n",
       "      <td>COVID-19 vaccines: ethical framework concernin...</td>\n",
       "      <td>human challenge studies</td>\n",
       "    </tr>\n",
       "    <tr>\n",
       "      <th>0</th>\n",
       "      <td>COVID-19 vaccines: ethical framework concernin...</td>\n",
       "      <td>randomized clinical trials</td>\n",
       "    </tr>\n",
       "    <tr>\n",
       "      <th>0</th>\n",
       "      <td>COVID-19 vaccines: ethical framework concernin...</td>\n",
       "      <td>risk taking</td>\n",
       "    </tr>\n",
       "    <tr>\n",
       "      <th>1</th>\n",
       "      <td>Coronavirus Disease 2019 (COVID-19) Vaccines a...</td>\n",
       "      <td>NaN</td>\n",
       "    </tr>\n",
       "    <tr>\n",
       "      <th>2</th>\n",
       "      <td>Unfolding the Determinants of COVID-19 Vaccine...</td>\n",
       "      <td>covid-19</td>\n",
       "    </tr>\n",
       "    <tr>\n",
       "      <th>2</th>\n",
       "      <td>Unfolding the Determinants of COVID-19 Vaccine...</td>\n",
       "      <td>covid-19 vaccination</td>\n",
       "    </tr>\n",
       "    <tr>\n",
       "      <th>2</th>\n",
       "      <td>Unfolding the Determinants of COVID-19 Vaccine...</td>\n",
       "      <td>covid-19 vaccines</td>\n",
       "    </tr>\n",
       "    <tr>\n",
       "      <th>2</th>\n",
       "      <td>Unfolding the Determinants of COVID-19 Vaccine...</td>\n",
       "      <td>china</td>\n",
       "    </tr>\n",
       "    <tr>\n",
       "      <th>2</th>\n",
       "      <td>Unfolding the Determinants of COVID-19 Vaccine...</td>\n",
       "      <td>acceptance</td>\n",
       "    </tr>\n",
       "  </tbody>\n",
       "</table>\n",
       "</div>"
      ],
      "text/plain": [
       "                                               Title  \\\n",
       "0  COVID-19 vaccines: ethical framework concernin...   \n",
       "0  COVID-19 vaccines: ethical framework concernin...   \n",
       "0  COVID-19 vaccines: ethical framework concernin...   \n",
       "0  COVID-19 vaccines: ethical framework concernin...   \n",
       "1  Coronavirus Disease 2019 (COVID-19) Vaccines a...   \n",
       "2  Unfolding the Determinants of COVID-19 Vaccine...   \n",
       "2  Unfolding the Determinants of COVID-19 Vaccine...   \n",
       "2  Unfolding the Determinants of COVID-19 Vaccine...   \n",
       "2  Unfolding the Determinants of COVID-19 Vaccine...   \n",
       "2  Unfolding the Determinants of COVID-19 Vaccine...   \n",
       "\n",
       "                     Keywords  \n",
       "0           covid-19 vaccines  \n",
       "0     human challenge studies  \n",
       "0  randomized clinical trials  \n",
       "0                 risk taking  \n",
       "1                         NaN  \n",
       "2                    covid-19  \n",
       "2        covid-19 vaccination  \n",
       "2           covid-19 vaccines  \n",
       "2                       china  \n",
       "2                  acceptance  "
      ]
     },
     "execution_count": 321,
     "metadata": {},
     "output_type": "execute_result"
    }
   ],
   "source": [
    "#make separate df for multi value attribute column - keywords\n",
    "keywords = df.explode('Keywords').explode('Keywords').iloc[:,:2]\n",
    "keywords['Keywords'] = keywords['Keywords'].str.lower()\n",
    "keywords.head(10)"
   ]
  },
  {
   "cell_type": "code",
   "execution_count": 322,
   "metadata": {
    "colab": {
     "base_uri": "https://localhost:8080/",
     "height": 204
    },
    "id": "mb0z8o8Ud7Bt",
    "outputId": "3ec5a041-0f9e-48ba-b4c8-6cc8a1d7c6fa"
   },
   "outputs": [
    {
     "data": {
      "text/html": [
       "<div>\n",
       "<style scoped>\n",
       "    .dataframe tbody tr th:only-of-type {\n",
       "        vertical-align: middle;\n",
       "    }\n",
       "\n",
       "    .dataframe tbody tr th {\n",
       "        vertical-align: top;\n",
       "    }\n",
       "\n",
       "    .dataframe thead th {\n",
       "        text-align: right;\n",
       "    }\n",
       "</style>\n",
       "<table border=\"1\" class=\"dataframe\">\n",
       "  <thead>\n",
       "    <tr style=\"text-align: right;\">\n",
       "      <th></th>\n",
       "      <th>Title</th>\n",
       "      <th>Author</th>\n",
       "      <th>AffiliationInfo</th>\n",
       "    </tr>\n",
       "  </thead>\n",
       "  <tbody>\n",
       "    <tr>\n",
       "      <th>0</th>\n",
       "      <td>COVID-19 vaccines: ethical framework concernin...</td>\n",
       "      <td>Daniela Calina</td>\n",
       "      <td>'Department of Clinical Pharmacy, University o...</td>\n",
       "    </tr>\n",
       "    <tr>\n",
       "      <th>0</th>\n",
       "      <td>COVID-19 vaccines: ethical framework concernin...</td>\n",
       "      <td>Thomas Hartung</td>\n",
       "      <td>'CAAT, Bloomberg School of Public Health, John...</td>\n",
       "    </tr>\n",
       "    <tr>\n",
       "      <th>0</th>\n",
       "      <td>COVID-19 vaccines: ethical framework concernin...</td>\n",
       "      <td>Anca Oana Docea</td>\n",
       "      <td>'Department of Toxicology, University of Medic...</td>\n",
       "    </tr>\n",
       "    <tr>\n",
       "      <th>0</th>\n",
       "      <td>COVID-19 vaccines: ethical framework concernin...</td>\n",
       "      <td>Demetrios A Spandidos</td>\n",
       "      <td>'Laboratory of Clinical Virology, Medical Scho...</td>\n",
       "    </tr>\n",
       "    <tr>\n",
       "      <th>0</th>\n",
       "      <td>COVID-19 vaccines: ethical framework concernin...</td>\n",
       "      <td>Alex M Egorov</td>\n",
       "      <td>'Russian Academy of Sciences, Moscow, Russia.'</td>\n",
       "    </tr>\n",
       "  </tbody>\n",
       "</table>\n",
       "</div>"
      ],
      "text/plain": [
       "                                               Title                 Author  \\\n",
       "0  COVID-19 vaccines: ethical framework concernin...         Daniela Calina   \n",
       "0  COVID-19 vaccines: ethical framework concernin...         Thomas Hartung   \n",
       "0  COVID-19 vaccines: ethical framework concernin...        Anca Oana Docea   \n",
       "0  COVID-19 vaccines: ethical framework concernin...  Demetrios A Spandidos   \n",
       "0  COVID-19 vaccines: ethical framework concernin...          Alex M Egorov   \n",
       "\n",
       "                                     AffiliationInfo  \n",
       "0  'Department of Clinical Pharmacy, University o...  \n",
       "0  'CAAT, Bloomberg School of Public Health, John...  \n",
       "0  'Department of Toxicology, University of Medic...  \n",
       "0  'Laboratory of Clinical Virology, Medical Scho...  \n",
       "0     'Russian Academy of Sciences, Moscow, Russia.'  "
      ]
     },
     "execution_count": 322,
     "metadata": {},
     "output_type": "execute_result"
    }
   ],
   "source": [
    "#create new dataframe with columns for first and last name of each author of each paper\n",
    "authors = df.explode('Authors')['Authors'].apply(pd.Series).loc[:,['LastName','ForeName','AffiliationInfo']]\n",
    "authors[\"Author\"] = authors[\"ForeName\"].str.cat(authors[\"LastName\"], sep=\" \")\n",
    "#merge original df and df2 with author names\n",
    "df3 = pd.merge(df,authors,left_index=True,right_index=True)\n",
    "df3 = df3[[\"Title\", \"Author\", 'AffiliationInfo']]\n",
    "df3['AffiliationInfo'] = df3['AffiliationInfo'].astype(str)\n",
    "df3['AffiliationInfo'] = df3.apply(lambda x: x['AffiliationInfo'].split('Affiliation')[-1], axis=1).str[3:-2]\n",
    "df3.head()"
   ]
  },
  {
   "cell_type": "code",
   "execution_count": 323,
   "metadata": {},
   "outputs": [
    {
     "data": {
      "text/html": [
       "<div>\n",
       "<style scoped>\n",
       "    .dataframe tbody tr th:only-of-type {\n",
       "        vertical-align: middle;\n",
       "    }\n",
       "\n",
       "    .dataframe tbody tr th {\n",
       "        vertical-align: top;\n",
       "    }\n",
       "\n",
       "    .dataframe thead th {\n",
       "        text-align: right;\n",
       "    }\n",
       "</style>\n",
       "<table border=\"1\" class=\"dataframe\">\n",
       "  <thead>\n",
       "    <tr style=\"text-align: right;\">\n",
       "      <th></th>\n",
       "      <th>Title</th>\n",
       "      <th>Abstract</th>\n",
       "      <th>Country</th>\n",
       "      <th>Pub_Date</th>\n",
       "    </tr>\n",
       "  </thead>\n",
       "  <tbody>\n",
       "    <tr>\n",
       "      <th>0</th>\n",
       "      <td>COVID-19 vaccines: ethical framework concernin...</td>\n",
       "      <td>The pandemic associated with the new SARS-CoV-...</td>\n",
       "      <td>Switzerland</td>\n",
       "      <td>2020-12</td>\n",
       "    </tr>\n",
       "    <tr>\n",
       "      <th>1</th>\n",
       "      <td>Coronavirus Disease 2019 (COVID-19) Vaccines a...</td>\n",
       "      <td>Coronavirus disease 2019 (COVID-19) vaccines h...</td>\n",
       "      <td>United States</td>\n",
       "      <td>2021-03</td>\n",
       "    </tr>\n",
       "    <tr>\n",
       "      <th>2</th>\n",
       "      <td>Unfolding the Determinants of COVID-19 Vaccine...</td>\n",
       "      <td>China is at the forefront of global efforts to...</td>\n",
       "      <td>Canada</td>\n",
       "      <td>2021-01</td>\n",
       "    </tr>\n",
       "    <tr>\n",
       "      <th>3</th>\n",
       "      <td>Learning from the past: development of safe an...</td>\n",
       "      <td>The rapid spread of severe acute respiratory s...</td>\n",
       "      <td>England</td>\n",
       "      <td>2021-03</td>\n",
       "    </tr>\n",
       "    <tr>\n",
       "      <th>4</th>\n",
       "      <td>COVID-19 Vaccines: Preparing for Vaccination i...</td>\n",
       "      <td>In the environment of an infectious pandemic, ...</td>\n",
       "      <td>United States</td>\n",
       "      <td>2021-02</td>\n",
       "    </tr>\n",
       "  </tbody>\n",
       "</table>\n",
       "</div>"
      ],
      "text/plain": [
       "                                               Title  \\\n",
       "0  COVID-19 vaccines: ethical framework concernin...   \n",
       "1  Coronavirus Disease 2019 (COVID-19) Vaccines a...   \n",
       "2  Unfolding the Determinants of COVID-19 Vaccine...   \n",
       "3  Learning from the past: development of safe an...   \n",
       "4  COVID-19 Vaccines: Preparing for Vaccination i...   \n",
       "\n",
       "                                            Abstract        Country Pub_Date  \n",
       "0  The pandemic associated with the new SARS-CoV-...    Switzerland  2020-12  \n",
       "1  Coronavirus disease 2019 (COVID-19) vaccines h...  United States  2021-03  \n",
       "2  China is at the forefront of global efforts to...         Canada  2021-01  \n",
       "3  The rapid spread of severe acute respiratory s...        England  2021-03  \n",
       "4  In the environment of an infectious pandemic, ...  United States  2021-02  "
      ]
     },
     "execution_count": 323,
     "metadata": {},
     "output_type": "execute_result"
    }
   ],
   "source": [
    "df = df.drop(columns=['Keywords','Authors'])\n",
    "df.head()"
   ]
  },
  {
   "cell_type": "markdown",
   "metadata": {
    "id": "tNMStmmj8qa6"
   },
   "source": [
    "## Module 2 - Database Development\n",
    "1. Builds SQLite database to store our pubmed crawler output. \n",
    "2. Create SQL tables to represent data from module 1.\n",
    "3. Query tables to get key statistics and setup for visualization."
   ]
  },
  {
   "cell_type": "code",
   "execution_count": 324,
   "metadata": {},
   "outputs": [
    {
     "name": "stdout",
     "output_type": "stream",
     "text": [
      "/Users/Brian/Dropbox/Data_Science/Github portfolio/Pubmed crawler\n"
     ]
    }
   ],
   "source": [
    "%cd /Users/Brian/Dropbox/Data_Science/Github portfolio/Pubmed crawler/"
   ]
  },
  {
   "cell_type": "markdown",
   "metadata": {},
   "source": [
    "### Create database"
   ]
  },
  {
   "cell_type": "code",
   "execution_count": 325,
   "metadata": {
    "id": "6_8kz_cEWuI1"
   },
   "outputs": [],
   "source": [
    "conn = sqlite3.connect('pubmed.db')  # create a new database or connect to database if already exists\n",
    "c = conn.cursor() # create connection object"
   ]
  },
  {
   "cell_type": "markdown",
   "metadata": {},
   "source": [
    "### Create tables and add data to them\n",
    "We have three tables in the database:\n",
    "1. pub_info - this contains the main information about the publication, including author, abstract, country published in, and publication date\n",
    "2. authors - this table contains author name and affiliaition, with title as foreign key\n",
    "3. keywords - this table contains keywords for each article, with title as foreign key"
   ]
  },
  {
   "cell_type": "code",
   "execution_count": 326,
   "metadata": {
    "colab": {
     "base_uri": "https://localhost:8080/"
    },
    "id": "-D_vRsSV4oOk",
    "outputId": "1d4da8d9-361a-4c61-f0a2-f09c99670947"
   },
   "outputs": [
    {
     "name": "stdout",
     "output_type": "stream",
     "text": [
      "SQL table already exists!\n"
     ]
    }
   ],
   "source": [
    "# Create pub_info table\n",
    "try:\n",
    "  c.execute('''CREATE TABLE pub_info\n",
    "              ([Title] text, [Abstract] text, [Country] text, [Pub_Date] text)''')\n",
    "  conn.commit()\n",
    "  print('SQL table created successfully!')\n",
    "\n",
    "except:\n",
    "  print('SQL table already exists!')"
   ]
  },
  {
   "cell_type": "code",
   "execution_count": 327,
   "metadata": {
    "id": "-elNaMw1ZmZB"
   },
   "outputs": [],
   "source": [
    "#add data to sql table from our pandas dataframe\n",
    "df.to_sql('pub_info', conn, if_exists='append', index=False)"
   ]
  },
  {
   "cell_type": "code",
   "execution_count": 328,
   "metadata": {},
   "outputs": [
    {
     "data": {
      "text/plain": [
       "[('United States', 1157),\n",
       " ('England', 720),\n",
       " ('Switzerland', 481),\n",
       " ('Netherlands', 352),\n",
       " ('Germany', 107),\n",
       " ('China', 53),\n",
       " ('Canada', 47),\n",
       " ('Italy', 42),\n",
       " ('France', 38),\n",
       " ('India', 33)]"
      ]
     },
     "execution_count": 328,
     "metadata": {},
     "output_type": "execute_result"
    }
   ],
   "source": [
    "#query database to get the number of publications by country\n",
    "pubs_by_country = c.execute('''SELECT DISTINCT Country, count() OVER(PARTITION BY Country) as Num_Publications\n",
    "                            FROM pub_info \n",
    "                            ORDER BY Num_Publications DESC \n",
    "                            ''').fetchall()\n",
    "pubs_by_country[0:10]"
   ]
  },
  {
   "cell_type": "code",
   "execution_count": 329,
   "metadata": {},
   "outputs": [
    {
     "data": {
      "text/plain": [
       "[('2021-02', 458),\n",
       " ('2021-01', 389),\n",
       " ('2020-12', 367),\n",
       " ('2020-11', 295),\n",
       " ('2020-10', 287),\n",
       " ('2020-None', 273),\n",
       " ('2020-09', 242),\n",
       " ('2020-08', 213),\n",
       " ('2020-07', 192),\n",
       " ('2020-06', 152),\n",
       " ('2021-03', 113),\n",
       " ('2020-05', 106),\n",
       " ('None-None', 96),\n",
       " ('2021-None', 58),\n",
       " ('2020-04', 55),\n",
       " ('2020-03', 27),\n",
       " ('2021-04', 24),\n",
       " ('2021-05', 5),\n",
       " ('2021-12', 1),\n",
       " ('2021-06', 1),\n",
       " ('2020-02', 1)]"
      ]
     },
     "execution_count": 329,
     "metadata": {},
     "output_type": "execute_result"
    }
   ],
   "source": [
    "#query database to get the number of publications by month\n",
    "pubs_by_month = c.execute('''SELECT Pub_date, count(Pub_Date) as Pubs_by_month\n",
    "                            FROM pub_info \n",
    "                            GROUP BY Pub_date\n",
    "                            ORDER BY Pubs_by_month DESC \n",
    "                            ''').fetchall()\n",
    "pubs_by_month"
   ]
  },
  {
   "cell_type": "code",
   "execution_count": 330,
   "metadata": {},
   "outputs": [
    {
     "name": "stdout",
     "output_type": "stream",
     "text": [
      "SQL table already exists!\n"
     ]
    }
   ],
   "source": [
    "# Create authors table\n",
    "try:\n",
    "  c.execute('''CREATE TABLE authors\n",
    "              ([Title] text, [Author] text, [AffiliationInfo] text)''')\n",
    "  conn.commit()\n",
    "  print('SQL table created successfully!')\n",
    "\n",
    "except:\n",
    "  print('SQL table already exists!')"
   ]
  },
  {
   "cell_type": "code",
   "execution_count": 331,
   "metadata": {},
   "outputs": [],
   "source": [
    "#add data to sql table from our pandas dataframe\n",
    "df3.to_sql('authors', conn, if_exists='append', index=False)"
   ]
  },
  {
   "cell_type": "code",
   "execution_count": 332,
   "metadata": {},
   "outputs": [
    {
     "data": {
      "text/plain": [
       "[('Ralph S Baric',\n",
       "  25,\n",
       "  \"'Department of Epidemiology, Gillings School of Public Health, University of North Carolina at Chapel Hill, Chapel Hill, NC, USA.'\"),\n",
       " ('Kuldeep Dhama',\n",
       "  25,\n",
       "  \"'Division of Pathology, ICAR-Indian Veterinary Research Institute , Bareilly, India.'\"),\n",
       " ('Florian Krammer',\n",
       "  22,\n",
       "  \"'Department of Microbiology, Icahn School of Medicine at Mount Sinai, New York, NY 10029, United States.'\"),\n",
       " ('Pei-Yong Shi',\n",
       "  17,\n",
       "  '\"From the University of Rochester and Rochester General Hospital, Rochester (E.E.W., A.R.F.), Vaccine Research and Development, Pfizer, Pearl River (J.A., A.G., K.A.S., K.K., W.K., D.C., K.R.T., P.R.D., K.U.J., W.C.G.), and New York University Langone Vaccine Center and Grossman School of Medicine, New York (M.J.M., V.R.) - all in New York; Cincinnati Children\\'s Hospital, Cincinnati (R.W.F.); Vaccine Research and Development, Pfizer, Hurley, United Kingdom (N.K., S.L., R.B.); the University of Maryland School of Medicine, Center for Vaccine Development and Global Health, Baltimore (K.N., K.E.L.); Vaccine Research and Development, Pfizer, Collegeville, PA (P.L.); the University of Texas Medical Branch, Galveston (C.F.-G., P.-Y.S.); and BioNTech, Mainz, Germany (ÖT., U.Ş.).\"'),\n",
       " ('Ruchi Tiwari',\n",
       "  16,\n",
       "  \"'Department of Veterinary Microbiology and Immunology, College of Veterinary Sciences, UP Pandit Deen Dayal Upadhayay Pashu Chikitsa Vigyan Vishwavidyalay Evum Go-Anusandhan Sansthan , Mathura, India.'\")]"
      ]
     },
     "execution_count": 332,
     "metadata": {},
     "output_type": "execute_result"
    }
   ],
   "source": [
    "#query database to find top 10 authors by number of publications\n",
    "top_authors = c.execute('''SELECT DISTINCT Author, count(Author) as Count, AffiliationInfo\n",
    "                        FROM authors \n",
    "                        WHERE Author IS NOT NULL\n",
    "                        GROUP BY Author\n",
    "                        ORDER BY Count DESC \n",
    "                        LIMIT 10''').fetchall()\n",
    "top_authors[0:5]"
   ]
  },
  {
   "cell_type": "code",
   "execution_count": 333,
   "metadata": {},
   "outputs": [
    {
     "name": "stdout",
     "output_type": "stream",
     "text": [
      "SQL table already exists!\n"
     ]
    }
   ],
   "source": [
    "# Create keywords table\n",
    "try:\n",
    "  c.execute('''CREATE TABLE keywords\n",
    "              ([Title] text, [Keywords] text)''')\n",
    "  conn.commit()\n",
    "  print('SQL table created successfully!')\n",
    "\n",
    "except:\n",
    "  print('SQL table already exists!')"
   ]
  },
  {
   "cell_type": "code",
   "execution_count": 334,
   "metadata": {},
   "outputs": [],
   "source": [
    "#add data to sql table from our pandas dataframe\n",
    "keywords.to_sql('keywords', conn, if_exists='append', index=False)"
   ]
  },
  {
   "cell_type": "code",
   "execution_count": 335,
   "metadata": {},
   "outputs": [
    {
     "data": {
      "text/plain": [
       "[('covid-19', 1634),\n",
       " ('sars-cov-2', 1094),\n",
       " ('coronavirus', 407),\n",
       " ('vaccine', 327),\n",
       " ('vaccines', 224),\n",
       " ('pandemic', 170),\n",
       " ('vaccination', 106),\n",
       " ('epidemiology', 72),\n",
       " ('spike protein', 63),\n",
       " ('clinical trials', 63),\n",
       " ('treatment', 53),\n",
       " ('public health', 53),\n",
       " ('vaccine hesitancy', 51),\n",
       " ('severe acute respiratory syndrome coronavirus 2', 49),\n",
       " ('sars', 49),\n",
       " ('ace2', 49),\n",
       " ('2019-ncov', 45),\n",
       " ('influenza', 44),\n",
       " ('immunization', 43),\n",
       " ('coronavirus disease 2019', 43)]"
      ]
     },
     "execution_count": 335,
     "metadata": {},
     "output_type": "execute_result"
    }
   ],
   "source": [
    "#query database to find top 10 keywords\n",
    "top_keywords = c.execute('''SELECT Keywords, count(Keywords) as Count\n",
    "                        FROM keywords\n",
    "                        GROUP BY Keywords\n",
    "                        ORDER BY Count DESC \n",
    "                        LIMIT 20''').fetchall()\n",
    "top_keywords[0:20]"
   ]
  },
  {
   "cell_type": "markdown",
   "metadata": {
    "id": "wI_7z7DEfgLL"
   },
   "source": [
    "## Module 3 - Visualization\n",
    "Use SQL query output to produce a dashboard summarizing key statistics related to publications"
   ]
  },
  {
   "cell_type": "markdown",
   "metadata": {},
   "source": [
    "### 1. Publications by month"
   ]
  },
  {
   "cell_type": "code",
   "execution_count": 343,
   "metadata": {},
   "outputs": [
    {
     "data": {
      "text/html": [
       "<div>\n",
       "<style scoped>\n",
       "    .dataframe tbody tr th:only-of-type {\n",
       "        vertical-align: middle;\n",
       "    }\n",
       "\n",
       "    .dataframe tbody tr th {\n",
       "        vertical-align: top;\n",
       "    }\n",
       "\n",
       "    .dataframe thead th {\n",
       "        text-align: right;\n",
       "    }\n",
       "</style>\n",
       "<table border=\"1\" class=\"dataframe\">\n",
       "  <thead>\n",
       "    <tr style=\"text-align: right;\">\n",
       "      <th></th>\n",
       "      <th>Pub_Date</th>\n",
       "      <th>Count</th>\n",
       "    </tr>\n",
       "  </thead>\n",
       "  <tbody>\n",
       "    <tr>\n",
       "      <th>0</th>\n",
       "      <td>2021-02</td>\n",
       "      <td>458</td>\n",
       "    </tr>\n",
       "    <tr>\n",
       "      <th>1</th>\n",
       "      <td>2021-01</td>\n",
       "      <td>389</td>\n",
       "    </tr>\n",
       "    <tr>\n",
       "      <th>2</th>\n",
       "      <td>2020-12</td>\n",
       "      <td>367</td>\n",
       "    </tr>\n",
       "    <tr>\n",
       "      <th>3</th>\n",
       "      <td>2020-11</td>\n",
       "      <td>295</td>\n",
       "    </tr>\n",
       "    <tr>\n",
       "      <th>4</th>\n",
       "      <td>2020-10</td>\n",
       "      <td>287</td>\n",
       "    </tr>\n",
       "  </tbody>\n",
       "</table>\n",
       "</div>"
      ],
      "text/plain": [
       "  Pub_Date  Count\n",
       "0  2021-02    458\n",
       "1  2021-01    389\n",
       "2  2020-12    367\n",
       "3  2020-11    295\n",
       "4  2020-10    287"
      ]
     },
     "execution_count": 343,
     "metadata": {},
     "output_type": "execute_result"
    }
   ],
   "source": [
    "#convert SQL query output to pandas df for visualization\n",
    "df_pubs_by_month = pd.DataFrame(pubs_by_month, columns=['Pub_Date', 'Count'])\n",
    "df_pubs_by_month['Pub_Date'] = df_pubs_by_month['Pub_Date'].astype(str)\n",
    "df_pubs_by_month.head()"
   ]
  },
  {
   "cell_type": "markdown",
   "metadata": {},
   "source": [
    "### 2. Publications by country"
   ]
  },
  {
   "cell_type": "code",
   "execution_count": 338,
   "metadata": {},
   "outputs": [
    {
     "name": "stdout",
     "output_type": "stream",
     "text": [
      "3355\n"
     ]
    },
    {
     "data": {
      "text/html": [
       "<div>\n",
       "<style scoped>\n",
       "    .dataframe tbody tr th:only-of-type {\n",
       "        vertical-align: middle;\n",
       "    }\n",
       "\n",
       "    .dataframe tbody tr th {\n",
       "        vertical-align: top;\n",
       "    }\n",
       "\n",
       "    .dataframe thead th {\n",
       "        text-align: right;\n",
       "    }\n",
       "</style>\n",
       "<table border=\"1\" class=\"dataframe\">\n",
       "  <thead>\n",
       "    <tr style=\"text-align: right;\">\n",
       "      <th></th>\n",
       "      <th>Country</th>\n",
       "      <th>Num_Publications</th>\n",
       "      <th>Percent_Pubs</th>\n",
       "    </tr>\n",
       "  </thead>\n",
       "  <tbody>\n",
       "    <tr>\n",
       "      <th>0</th>\n",
       "      <td>United States</td>\n",
       "      <td>1157</td>\n",
       "      <td>0.344858</td>\n",
       "    </tr>\n",
       "    <tr>\n",
       "      <th>1</th>\n",
       "      <td>England</td>\n",
       "      <td>720</td>\n",
       "      <td>0.214605</td>\n",
       "    </tr>\n",
       "    <tr>\n",
       "      <th>2</th>\n",
       "      <td>Switzerland</td>\n",
       "      <td>481</td>\n",
       "      <td>0.143368</td>\n",
       "    </tr>\n",
       "    <tr>\n",
       "      <th>3</th>\n",
       "      <td>Netherlands</td>\n",
       "      <td>352</td>\n",
       "      <td>0.104918</td>\n",
       "    </tr>\n",
       "    <tr>\n",
       "      <th>4</th>\n",
       "      <td>Germany</td>\n",
       "      <td>107</td>\n",
       "      <td>0.031893</td>\n",
       "    </tr>\n",
       "  </tbody>\n",
       "</table>\n",
       "</div>"
      ],
      "text/plain": [
       "         Country  Num_Publications  Percent_Pubs\n",
       "0  United States              1157      0.344858\n",
       "1        England               720      0.214605\n",
       "2    Switzerland               481      0.143368\n",
       "3    Netherlands               352      0.104918\n",
       "4        Germany               107      0.031893"
      ]
     },
     "execution_count": 338,
     "metadata": {},
     "output_type": "execute_result"
    }
   ],
   "source": [
    "#convert SQL query output to pandas df for visualization\n",
    "df_pubs_by_country = pd.DataFrame(pubs_by_country, columns=['Country', 'Num_Publications'])\n",
    "total_pubs = df_pubs_by_country['Num_Publications'].sum()\n",
    "print(total_pubs)\n",
    "df_pubs_by_country['Percent_Pubs'] = df_pubs_by_country['Num_Publications']/total_pubs\n",
    "df_pubs_by_country.head()"
   ]
  },
  {
   "cell_type": "markdown",
   "metadata": {},
   "source": [
    "### 3. Publications by author"
   ]
  },
  {
   "cell_type": "code",
   "execution_count": 384,
   "metadata": {},
   "outputs": [
    {
     "data": {
      "text/html": [
       "<div>\n",
       "<style scoped>\n",
       "    .dataframe tbody tr th:only-of-type {\n",
       "        vertical-align: middle;\n",
       "    }\n",
       "\n",
       "    .dataframe tbody tr th {\n",
       "        vertical-align: top;\n",
       "    }\n",
       "\n",
       "    .dataframe thead th {\n",
       "        text-align: right;\n",
       "    }\n",
       "</style>\n",
       "<table border=\"1\" class=\"dataframe\">\n",
       "  <thead>\n",
       "    <tr style=\"text-align: right;\">\n",
       "      <th></th>\n",
       "      <th>Author</th>\n",
       "      <th>Count</th>\n",
       "      <th>Affiliation</th>\n",
       "    </tr>\n",
       "  </thead>\n",
       "  <tbody>\n",
       "    <tr>\n",
       "      <th>0</th>\n",
       "      <td>Ralph S Baric</td>\n",
       "      <td>25</td>\n",
       "      <td>'Department of Epidemiology, Gillings School o...</td>\n",
       "    </tr>\n",
       "    <tr>\n",
       "      <th>1</th>\n",
       "      <td>Kuldeep Dhama</td>\n",
       "      <td>25</td>\n",
       "      <td>'Division of Pathology, ICAR-Indian Veterinary...</td>\n",
       "    </tr>\n",
       "    <tr>\n",
       "      <th>2</th>\n",
       "      <td>Florian Krammer</td>\n",
       "      <td>22</td>\n",
       "      <td>'Department of Microbiology, Icahn School of M...</td>\n",
       "    </tr>\n",
       "    <tr>\n",
       "      <th>3</th>\n",
       "      <td>Pei-Yong Shi</td>\n",
       "      <td>17</td>\n",
       "      <td>\"From the University of Rochester and Rocheste...</td>\n",
       "    </tr>\n",
       "    <tr>\n",
       "      <th>4</th>\n",
       "      <td>Ruchi Tiwari</td>\n",
       "      <td>16</td>\n",
       "      <td>'Department of Veterinary Microbiology and Imm...</td>\n",
       "    </tr>\n",
       "  </tbody>\n",
       "</table>\n",
       "</div>"
      ],
      "text/plain": [
       "            Author  Count                                        Affiliation\n",
       "0    Ralph S Baric     25  'Department of Epidemiology, Gillings School o...\n",
       "1    Kuldeep Dhama     25  'Division of Pathology, ICAR-Indian Veterinary...\n",
       "2  Florian Krammer     22  'Department of Microbiology, Icahn School of M...\n",
       "3     Pei-Yong Shi     17  \"From the University of Rochester and Rocheste...\n",
       "4     Ruchi Tiwari     16  'Department of Veterinary Microbiology and Imm..."
      ]
     },
     "execution_count": 384,
     "metadata": {},
     "output_type": "execute_result"
    }
   ],
   "source": [
    "df_top_authors = pd.DataFrame(top_authors,columns=['Author', 'Count', 'Affiliation'])\n",
    "df_top_authors.head()"
   ]
  },
  {
   "cell_type": "markdown",
   "metadata": {},
   "source": [
    "### Create Dashboard\n",
    "using plotly"
   ]
  },
  {
   "cell_type": "code",
   "execution_count": 385,
   "metadata": {},
   "outputs": [
    {
     "data": {
      "application/vnd.plotly.v1+json": {
       "config": {
        "plotlyServerURL": "https://plot.ly"
       },
       "data": [
        {
         "name": "Publications by Month",
         "text": [
          458,
          389,
          367,
          295,
          287,
          273,
          242,
          213,
          192,
          152,
          113,
          106,
          96
         ],
         "textposition": "auto",
         "type": "bar",
         "x": [
          "2021-02",
          "2021-01",
          "2020-12",
          "2020-11",
          "2020-10",
          "2020-None",
          "2020-09",
          "2020-08",
          "2020-07",
          "2020-06",
          "2021-03",
          "2020-05",
          "None-None"
         ],
         "xaxis": "x",
         "y": [
          458,
          389,
          367,
          295,
          287,
          273,
          242,
          213,
          192,
          152,
          113,
          106,
          96
         ],
         "yaxis": "y"
        },
        {
         "name": "Publications by Country",
         "text": [
          1157,
          720,
          481,
          352,
          107,
          53,
          47,
          42,
          38,
          33,
          31
         ],
         "textposition": "auto",
         "type": "bar",
         "x": [
          "United States",
          "England",
          "Switzerland",
          "Netherlands",
          "Germany",
          "China",
          "Canada",
          "Italy",
          "France",
          "India",
          "New Zealand"
         ],
         "xaxis": "x2",
         "y": [
          1157,
          720,
          481,
          352,
          107,
          53,
          47,
          42,
          38,
          33,
          31
         ],
         "yaxis": "y2"
        },
        {
         "cells": {
          "values": [
           [
            "Ralph S Baric",
            "Kuldeep Dhama",
            "Florian Krammer"
           ],
           [
            25,
            25,
            22
           ],
           [
            "'Department of Epidemiology, Gillings School of Public Health, University of North Carolina at Chapel Hill, Chapel Hill, NC, USA.'",
            "'Division of Pathology, ICAR-Indian Veterinary Research Institute , Bareilly, India.'",
            "'Department of Microbiology, Icahn School of Medicine at Mount Sinai, New York, NY 10029, United States.'"
           ]
          ]
         },
         "domain": {
          "x": [
           0,
           1
          ],
          "y": [
           0,
           0.26666666666666666
          ]
         },
         "header": {
          "values": [
           "Author",
           "Publications",
           "Affiliations"
          ]
         },
         "type": "table"
        }
       ],
       "layout": {
        "annotations": [
         {
          "font": {
           "size": 16
          },
          "showarrow": false,
          "text": "Publications by Month",
          "x": 0.5,
          "xanchor": "center",
          "xref": "paper",
          "y": 1,
          "yanchor": "bottom",
          "yref": "paper"
         },
         {
          "font": {
           "size": 16
          },
          "showarrow": false,
          "text": "Publications by Country",
          "x": 0.5,
          "xanchor": "center",
          "xref": "paper",
          "y": 0.6333333333333333,
          "yanchor": "bottom",
          "yref": "paper"
         },
         {
          "font": {
           "size": 16
          },
          "showarrow": false,
          "text": "Top Authors by Number of Publications",
          "x": 0.5,
          "xanchor": "center",
          "xref": "paper",
          "y": 0.26666666666666666,
          "yanchor": "bottom",
          "yref": "paper"
         }
        ],
        "height": 1000,
        "showlegend": false,
        "template": {
         "data": {
          "bar": [
           {
            "error_x": {
             "color": "#2a3f5f"
            },
            "error_y": {
             "color": "#2a3f5f"
            },
            "marker": {
             "line": {
              "color": "#E5ECF6",
              "width": 0.5
             }
            },
            "type": "bar"
           }
          ],
          "barpolar": [
           {
            "marker": {
             "line": {
              "color": "#E5ECF6",
              "width": 0.5
             }
            },
            "type": "barpolar"
           }
          ],
          "carpet": [
           {
            "aaxis": {
             "endlinecolor": "#2a3f5f",
             "gridcolor": "white",
             "linecolor": "white",
             "minorgridcolor": "white",
             "startlinecolor": "#2a3f5f"
            },
            "baxis": {
             "endlinecolor": "#2a3f5f",
             "gridcolor": "white",
             "linecolor": "white",
             "minorgridcolor": "white",
             "startlinecolor": "#2a3f5f"
            },
            "type": "carpet"
           }
          ],
          "choropleth": [
           {
            "colorbar": {
             "outlinewidth": 0,
             "ticks": ""
            },
            "type": "choropleth"
           }
          ],
          "contour": [
           {
            "colorbar": {
             "outlinewidth": 0,
             "ticks": ""
            },
            "colorscale": [
             [
              0,
              "#0d0887"
             ],
             [
              0.1111111111111111,
              "#46039f"
             ],
             [
              0.2222222222222222,
              "#7201a8"
             ],
             [
              0.3333333333333333,
              "#9c179e"
             ],
             [
              0.4444444444444444,
              "#bd3786"
             ],
             [
              0.5555555555555556,
              "#d8576b"
             ],
             [
              0.6666666666666666,
              "#ed7953"
             ],
             [
              0.7777777777777778,
              "#fb9f3a"
             ],
             [
              0.8888888888888888,
              "#fdca26"
             ],
             [
              1,
              "#f0f921"
             ]
            ],
            "type": "contour"
           }
          ],
          "contourcarpet": [
           {
            "colorbar": {
             "outlinewidth": 0,
             "ticks": ""
            },
            "type": "contourcarpet"
           }
          ],
          "heatmap": [
           {
            "colorbar": {
             "outlinewidth": 0,
             "ticks": ""
            },
            "colorscale": [
             [
              0,
              "#0d0887"
             ],
             [
              0.1111111111111111,
              "#46039f"
             ],
             [
              0.2222222222222222,
              "#7201a8"
             ],
             [
              0.3333333333333333,
              "#9c179e"
             ],
             [
              0.4444444444444444,
              "#bd3786"
             ],
             [
              0.5555555555555556,
              "#d8576b"
             ],
             [
              0.6666666666666666,
              "#ed7953"
             ],
             [
              0.7777777777777778,
              "#fb9f3a"
             ],
             [
              0.8888888888888888,
              "#fdca26"
             ],
             [
              1,
              "#f0f921"
             ]
            ],
            "type": "heatmap"
           }
          ],
          "heatmapgl": [
           {
            "colorbar": {
             "outlinewidth": 0,
             "ticks": ""
            },
            "colorscale": [
             [
              0,
              "#0d0887"
             ],
             [
              0.1111111111111111,
              "#46039f"
             ],
             [
              0.2222222222222222,
              "#7201a8"
             ],
             [
              0.3333333333333333,
              "#9c179e"
             ],
             [
              0.4444444444444444,
              "#bd3786"
             ],
             [
              0.5555555555555556,
              "#d8576b"
             ],
             [
              0.6666666666666666,
              "#ed7953"
             ],
             [
              0.7777777777777778,
              "#fb9f3a"
             ],
             [
              0.8888888888888888,
              "#fdca26"
             ],
             [
              1,
              "#f0f921"
             ]
            ],
            "type": "heatmapgl"
           }
          ],
          "histogram": [
           {
            "marker": {
             "colorbar": {
              "outlinewidth": 0,
              "ticks": ""
             }
            },
            "type": "histogram"
           }
          ],
          "histogram2d": [
           {
            "colorbar": {
             "outlinewidth": 0,
             "ticks": ""
            },
            "colorscale": [
             [
              0,
              "#0d0887"
             ],
             [
              0.1111111111111111,
              "#46039f"
             ],
             [
              0.2222222222222222,
              "#7201a8"
             ],
             [
              0.3333333333333333,
              "#9c179e"
             ],
             [
              0.4444444444444444,
              "#bd3786"
             ],
             [
              0.5555555555555556,
              "#d8576b"
             ],
             [
              0.6666666666666666,
              "#ed7953"
             ],
             [
              0.7777777777777778,
              "#fb9f3a"
             ],
             [
              0.8888888888888888,
              "#fdca26"
             ],
             [
              1,
              "#f0f921"
             ]
            ],
            "type": "histogram2d"
           }
          ],
          "histogram2dcontour": [
           {
            "colorbar": {
             "outlinewidth": 0,
             "ticks": ""
            },
            "colorscale": [
             [
              0,
              "#0d0887"
             ],
             [
              0.1111111111111111,
              "#46039f"
             ],
             [
              0.2222222222222222,
              "#7201a8"
             ],
             [
              0.3333333333333333,
              "#9c179e"
             ],
             [
              0.4444444444444444,
              "#bd3786"
             ],
             [
              0.5555555555555556,
              "#d8576b"
             ],
             [
              0.6666666666666666,
              "#ed7953"
             ],
             [
              0.7777777777777778,
              "#fb9f3a"
             ],
             [
              0.8888888888888888,
              "#fdca26"
             ],
             [
              1,
              "#f0f921"
             ]
            ],
            "type": "histogram2dcontour"
           }
          ],
          "mesh3d": [
           {
            "colorbar": {
             "outlinewidth": 0,
             "ticks": ""
            },
            "type": "mesh3d"
           }
          ],
          "parcoords": [
           {
            "line": {
             "colorbar": {
              "outlinewidth": 0,
              "ticks": ""
             }
            },
            "type": "parcoords"
           }
          ],
          "pie": [
           {
            "automargin": true,
            "type": "pie"
           }
          ],
          "scatter": [
           {
            "marker": {
             "colorbar": {
              "outlinewidth": 0,
              "ticks": ""
             }
            },
            "type": "scatter"
           }
          ],
          "scatter3d": [
           {
            "line": {
             "colorbar": {
              "outlinewidth": 0,
              "ticks": ""
             }
            },
            "marker": {
             "colorbar": {
              "outlinewidth": 0,
              "ticks": ""
             }
            },
            "type": "scatter3d"
           }
          ],
          "scattercarpet": [
           {
            "marker": {
             "colorbar": {
              "outlinewidth": 0,
              "ticks": ""
             }
            },
            "type": "scattercarpet"
           }
          ],
          "scattergeo": [
           {
            "marker": {
             "colorbar": {
              "outlinewidth": 0,
              "ticks": ""
             }
            },
            "type": "scattergeo"
           }
          ],
          "scattergl": [
           {
            "marker": {
             "colorbar": {
              "outlinewidth": 0,
              "ticks": ""
             }
            },
            "type": "scattergl"
           }
          ],
          "scattermapbox": [
           {
            "marker": {
             "colorbar": {
              "outlinewidth": 0,
              "ticks": ""
             }
            },
            "type": "scattermapbox"
           }
          ],
          "scatterpolar": [
           {
            "marker": {
             "colorbar": {
              "outlinewidth": 0,
              "ticks": ""
             }
            },
            "type": "scatterpolar"
           }
          ],
          "scatterpolargl": [
           {
            "marker": {
             "colorbar": {
              "outlinewidth": 0,
              "ticks": ""
             }
            },
            "type": "scatterpolargl"
           }
          ],
          "scatterternary": [
           {
            "marker": {
             "colorbar": {
              "outlinewidth": 0,
              "ticks": ""
             }
            },
            "type": "scatterternary"
           }
          ],
          "surface": [
           {
            "colorbar": {
             "outlinewidth": 0,
             "ticks": ""
            },
            "colorscale": [
             [
              0,
              "#0d0887"
             ],
             [
              0.1111111111111111,
              "#46039f"
             ],
             [
              0.2222222222222222,
              "#7201a8"
             ],
             [
              0.3333333333333333,
              "#9c179e"
             ],
             [
              0.4444444444444444,
              "#bd3786"
             ],
             [
              0.5555555555555556,
              "#d8576b"
             ],
             [
              0.6666666666666666,
              "#ed7953"
             ],
             [
              0.7777777777777778,
              "#fb9f3a"
             ],
             [
              0.8888888888888888,
              "#fdca26"
             ],
             [
              1,
              "#f0f921"
             ]
            ],
            "type": "surface"
           }
          ],
          "table": [
           {
            "cells": {
             "fill": {
              "color": "#EBF0F8"
             },
             "line": {
              "color": "white"
             }
            },
            "header": {
             "fill": {
              "color": "#C8D4E3"
             },
             "line": {
              "color": "white"
             }
            },
            "type": "table"
           }
          ]
         },
         "layout": {
          "annotationdefaults": {
           "arrowcolor": "#2a3f5f",
           "arrowhead": 0,
           "arrowwidth": 1
          },
          "autotypenumbers": "strict",
          "coloraxis": {
           "colorbar": {
            "outlinewidth": 0,
            "ticks": ""
           }
          },
          "colorscale": {
           "diverging": [
            [
             0,
             "#8e0152"
            ],
            [
             0.1,
             "#c51b7d"
            ],
            [
             0.2,
             "#de77ae"
            ],
            [
             0.3,
             "#f1b6da"
            ],
            [
             0.4,
             "#fde0ef"
            ],
            [
             0.5,
             "#f7f7f7"
            ],
            [
             0.6,
             "#e6f5d0"
            ],
            [
             0.7,
             "#b8e186"
            ],
            [
             0.8,
             "#7fbc41"
            ],
            [
             0.9,
             "#4d9221"
            ],
            [
             1,
             "#276419"
            ]
           ],
           "sequential": [
            [
             0,
             "#0d0887"
            ],
            [
             0.1111111111111111,
             "#46039f"
            ],
            [
             0.2222222222222222,
             "#7201a8"
            ],
            [
             0.3333333333333333,
             "#9c179e"
            ],
            [
             0.4444444444444444,
             "#bd3786"
            ],
            [
             0.5555555555555556,
             "#d8576b"
            ],
            [
             0.6666666666666666,
             "#ed7953"
            ],
            [
             0.7777777777777778,
             "#fb9f3a"
            ],
            [
             0.8888888888888888,
             "#fdca26"
            ],
            [
             1,
             "#f0f921"
            ]
           ],
           "sequentialminus": [
            [
             0,
             "#0d0887"
            ],
            [
             0.1111111111111111,
             "#46039f"
            ],
            [
             0.2222222222222222,
             "#7201a8"
            ],
            [
             0.3333333333333333,
             "#9c179e"
            ],
            [
             0.4444444444444444,
             "#bd3786"
            ],
            [
             0.5555555555555556,
             "#d8576b"
            ],
            [
             0.6666666666666666,
             "#ed7953"
            ],
            [
             0.7777777777777778,
             "#fb9f3a"
            ],
            [
             0.8888888888888888,
             "#fdca26"
            ],
            [
             1,
             "#f0f921"
            ]
           ]
          },
          "colorway": [
           "#636efa",
           "#EF553B",
           "#00cc96",
           "#ab63fa",
           "#FFA15A",
           "#19d3f3",
           "#FF6692",
           "#B6E880",
           "#FF97FF",
           "#FECB52"
          ],
          "font": {
           "color": "#2a3f5f"
          },
          "geo": {
           "bgcolor": "white",
           "lakecolor": "white",
           "landcolor": "#E5ECF6",
           "showlakes": true,
           "showland": true,
           "subunitcolor": "white"
          },
          "hoverlabel": {
           "align": "left"
          },
          "hovermode": "closest",
          "mapbox": {
           "style": "light"
          },
          "paper_bgcolor": "white",
          "plot_bgcolor": "#E5ECF6",
          "polar": {
           "angularaxis": {
            "gridcolor": "white",
            "linecolor": "white",
            "ticks": ""
           },
           "bgcolor": "#E5ECF6",
           "radialaxis": {
            "gridcolor": "white",
            "linecolor": "white",
            "ticks": ""
           }
          },
          "scene": {
           "xaxis": {
            "backgroundcolor": "#E5ECF6",
            "gridcolor": "white",
            "gridwidth": 2,
            "linecolor": "white",
            "showbackground": true,
            "ticks": "",
            "zerolinecolor": "white"
           },
           "yaxis": {
            "backgroundcolor": "#E5ECF6",
            "gridcolor": "white",
            "gridwidth": 2,
            "linecolor": "white",
            "showbackground": true,
            "ticks": "",
            "zerolinecolor": "white"
           },
           "zaxis": {
            "backgroundcolor": "#E5ECF6",
            "gridcolor": "white",
            "gridwidth": 2,
            "linecolor": "white",
            "showbackground": true,
            "ticks": "",
            "zerolinecolor": "white"
           }
          },
          "shapedefaults": {
           "line": {
            "color": "#2a3f5f"
           }
          },
          "ternary": {
           "aaxis": {
            "gridcolor": "white",
            "linecolor": "white",
            "ticks": ""
           },
           "baxis": {
            "gridcolor": "white",
            "linecolor": "white",
            "ticks": ""
           },
           "bgcolor": "#E5ECF6",
           "caxis": {
            "gridcolor": "white",
            "linecolor": "white",
            "ticks": ""
           }
          },
          "title": {
           "x": 0.05
          },
          "xaxis": {
           "automargin": true,
           "gridcolor": "white",
           "linecolor": "white",
           "ticks": "",
           "title": {
            "standoff": 15
           },
           "zerolinecolor": "white",
           "zerolinewidth": 2
          },
          "yaxis": {
           "automargin": true,
           "gridcolor": "white",
           "linecolor": "white",
           "ticks": "",
           "title": {
            "standoff": 15
           },
           "zerolinecolor": "white",
           "zerolinewidth": 2
          }
         }
        },
        "title": {
         "text": "PubMed Publications for Research Related to Covid-19 Vaccine"
        },
        "xaxis": {
         "anchor": "y",
         "domain": [
          0,
          1
         ],
         "dtick": 1,
         "tick0": 1,
         "tickformat": "%m\n%Y",
         "tickmode": "linear",
         "type": "category"
        },
        "xaxis2": {
         "anchor": "y2",
         "domain": [
          0,
          1
         ],
         "dtick": 1,
         "tick0": 1,
         "tickformat": "%m\n%Y",
         "type": "category"
        },
        "yaxis": {
         "anchor": "x",
         "domain": [
          0.7333333333333334,
          1
         ]
        },
        "yaxis2": {
         "anchor": "x2",
         "domain": [
          0.3666666666666667,
          0.6333333333333333
         ]
        }
       }
      },
      "text/html": [
       "<div>                            <div id=\"09df45ce-9431-49af-aeb3-fe0cae971f93\" class=\"plotly-graph-div\" style=\"height:1000px; width:100%;\"></div>            <script type=\"text/javascript\">                require([\"plotly\"], function(Plotly) {                    window.PLOTLYENV=window.PLOTLYENV || {};                                    if (document.getElementById(\"09df45ce-9431-49af-aeb3-fe0cae971f93\")) {                    Plotly.newPlot(                        \"09df45ce-9431-49af-aeb3-fe0cae971f93\",                        [{\"name\": \"Publications by Month\", \"text\": [458.0, 389.0, 367.0, 295.0, 287.0, 273.0, 242.0, 213.0, 192.0, 152.0, 113.0, 106.0, 96.0], \"textposition\": \"auto\", \"type\": \"bar\", \"x\": [\"2021-02\", \"2021-01\", \"2020-12\", \"2020-11\", \"2020-10\", \"2020-None\", \"2020-09\", \"2020-08\", \"2020-07\", \"2020-06\", \"2021-03\", \"2020-05\", \"None-None\"], \"xaxis\": \"x\", \"y\": [458, 389, 367, 295, 287, 273, 242, 213, 192, 152, 113, 106, 96], \"yaxis\": \"y\"}, {\"name\": \"Publications by Country\", \"text\": [1157.0, 720.0, 481.0, 352.0, 107.0, 53.0, 47.0, 42.0, 38.0, 33.0, 31.0], \"textposition\": \"auto\", \"type\": \"bar\", \"x\": [\"United States\", \"England\", \"Switzerland\", \"Netherlands\", \"Germany\", \"China\", \"Canada\", \"Italy\", \"France\", \"India\", \"New Zealand\"], \"xaxis\": \"x2\", \"y\": [1157, 720, 481, 352, 107, 53, 47, 42, 38, 33, 31], \"yaxis\": \"y2\"}, {\"cells\": {\"values\": [[\"Ralph S Baric\", \"Kuldeep Dhama\", \"Florian Krammer\"], [25, 25, 22], [\"'Department of Epidemiology, Gillings School of Public Health, University of North Carolina at Chapel Hill, Chapel Hill, NC, USA.'\", \"'Division of Pathology, ICAR-Indian Veterinary Research Institute , Bareilly, India.'\", \"'Department of Microbiology, Icahn School of Medicine at Mount Sinai, New York, NY 10029, United States.'\"]]}, \"domain\": {\"x\": [0.0, 1.0], \"y\": [0.0, 0.26666666666666666]}, \"header\": {\"values\": [\"Author\", \"Publications\", \"Affiliations\"]}, \"type\": \"table\"}],                        {\"annotations\": [{\"font\": {\"size\": 16}, \"showarrow\": false, \"text\": \"Publications by Month\", \"x\": 0.5, \"xanchor\": \"center\", \"xref\": \"paper\", \"y\": 1.0, \"yanchor\": \"bottom\", \"yref\": \"paper\"}, {\"font\": {\"size\": 16}, \"showarrow\": false, \"text\": \"Publications by Country\", \"x\": 0.5, \"xanchor\": \"center\", \"xref\": \"paper\", \"y\": 0.6333333333333333, \"yanchor\": \"bottom\", \"yref\": \"paper\"}, {\"font\": {\"size\": 16}, \"showarrow\": false, \"text\": \"Top Authors by Number of Publications\", \"x\": 0.5, \"xanchor\": \"center\", \"xref\": \"paper\", \"y\": 0.26666666666666666, \"yanchor\": \"bottom\", \"yref\": \"paper\"}], \"height\": 1000, \"showlegend\": false, \"template\": {\"data\": {\"bar\": [{\"error_x\": {\"color\": \"#2a3f5f\"}, \"error_y\": {\"color\": \"#2a3f5f\"}, \"marker\": {\"line\": {\"color\": \"#E5ECF6\", \"width\": 0.5}}, \"type\": \"bar\"}], \"barpolar\": [{\"marker\": {\"line\": {\"color\": \"#E5ECF6\", \"width\": 0.5}}, \"type\": \"barpolar\"}], \"carpet\": [{\"aaxis\": {\"endlinecolor\": \"#2a3f5f\", \"gridcolor\": \"white\", \"linecolor\": \"white\", \"minorgridcolor\": \"white\", \"startlinecolor\": \"#2a3f5f\"}, \"baxis\": {\"endlinecolor\": \"#2a3f5f\", \"gridcolor\": \"white\", \"linecolor\": \"white\", \"minorgridcolor\": \"white\", \"startlinecolor\": \"#2a3f5f\"}, \"type\": \"carpet\"}], \"choropleth\": [{\"colorbar\": {\"outlinewidth\": 0, \"ticks\": \"\"}, \"type\": \"choropleth\"}], \"contour\": [{\"colorbar\": {\"outlinewidth\": 0, \"ticks\": \"\"}, \"colorscale\": [[0.0, \"#0d0887\"], [0.1111111111111111, \"#46039f\"], [0.2222222222222222, \"#7201a8\"], [0.3333333333333333, \"#9c179e\"], [0.4444444444444444, \"#bd3786\"], [0.5555555555555556, \"#d8576b\"], [0.6666666666666666, \"#ed7953\"], [0.7777777777777778, \"#fb9f3a\"], [0.8888888888888888, \"#fdca26\"], [1.0, \"#f0f921\"]], \"type\": \"contour\"}], \"contourcarpet\": [{\"colorbar\": {\"outlinewidth\": 0, \"ticks\": \"\"}, \"type\": \"contourcarpet\"}], \"heatmap\": [{\"colorbar\": {\"outlinewidth\": 0, \"ticks\": \"\"}, \"colorscale\": [[0.0, \"#0d0887\"], [0.1111111111111111, \"#46039f\"], [0.2222222222222222, \"#7201a8\"], [0.3333333333333333, \"#9c179e\"], [0.4444444444444444, \"#bd3786\"], [0.5555555555555556, \"#d8576b\"], [0.6666666666666666, \"#ed7953\"], [0.7777777777777778, \"#fb9f3a\"], [0.8888888888888888, \"#fdca26\"], [1.0, \"#f0f921\"]], \"type\": \"heatmap\"}], \"heatmapgl\": [{\"colorbar\": {\"outlinewidth\": 0, \"ticks\": \"\"}, \"colorscale\": [[0.0, \"#0d0887\"], [0.1111111111111111, \"#46039f\"], [0.2222222222222222, \"#7201a8\"], [0.3333333333333333, \"#9c179e\"], [0.4444444444444444, \"#bd3786\"], [0.5555555555555556, \"#d8576b\"], [0.6666666666666666, \"#ed7953\"], [0.7777777777777778, \"#fb9f3a\"], [0.8888888888888888, \"#fdca26\"], [1.0, \"#f0f921\"]], \"type\": \"heatmapgl\"}], \"histogram\": [{\"marker\": {\"colorbar\": {\"outlinewidth\": 0, \"ticks\": \"\"}}, \"type\": \"histogram\"}], \"histogram2d\": [{\"colorbar\": {\"outlinewidth\": 0, \"ticks\": \"\"}, \"colorscale\": [[0.0, \"#0d0887\"], [0.1111111111111111, \"#46039f\"], [0.2222222222222222, \"#7201a8\"], [0.3333333333333333, \"#9c179e\"], [0.4444444444444444, \"#bd3786\"], [0.5555555555555556, \"#d8576b\"], [0.6666666666666666, \"#ed7953\"], [0.7777777777777778, \"#fb9f3a\"], [0.8888888888888888, \"#fdca26\"], [1.0, \"#f0f921\"]], \"type\": \"histogram2d\"}], \"histogram2dcontour\": [{\"colorbar\": {\"outlinewidth\": 0, \"ticks\": \"\"}, \"colorscale\": [[0.0, \"#0d0887\"], [0.1111111111111111, \"#46039f\"], [0.2222222222222222, \"#7201a8\"], [0.3333333333333333, \"#9c179e\"], [0.4444444444444444, \"#bd3786\"], [0.5555555555555556, \"#d8576b\"], [0.6666666666666666, \"#ed7953\"], [0.7777777777777778, \"#fb9f3a\"], [0.8888888888888888, \"#fdca26\"], [1.0, \"#f0f921\"]], \"type\": \"histogram2dcontour\"}], \"mesh3d\": [{\"colorbar\": {\"outlinewidth\": 0, \"ticks\": \"\"}, \"type\": \"mesh3d\"}], \"parcoords\": [{\"line\": {\"colorbar\": {\"outlinewidth\": 0, \"ticks\": \"\"}}, \"type\": \"parcoords\"}], \"pie\": [{\"automargin\": true, \"type\": \"pie\"}], \"scatter\": [{\"marker\": {\"colorbar\": {\"outlinewidth\": 0, \"ticks\": \"\"}}, \"type\": \"scatter\"}], \"scatter3d\": [{\"line\": {\"colorbar\": {\"outlinewidth\": 0, \"ticks\": \"\"}}, \"marker\": {\"colorbar\": {\"outlinewidth\": 0, \"ticks\": \"\"}}, \"type\": \"scatter3d\"}], \"scattercarpet\": [{\"marker\": {\"colorbar\": {\"outlinewidth\": 0, \"ticks\": \"\"}}, \"type\": \"scattercarpet\"}], \"scattergeo\": [{\"marker\": {\"colorbar\": {\"outlinewidth\": 0, \"ticks\": \"\"}}, \"type\": \"scattergeo\"}], \"scattergl\": [{\"marker\": {\"colorbar\": {\"outlinewidth\": 0, \"ticks\": \"\"}}, \"type\": \"scattergl\"}], \"scattermapbox\": [{\"marker\": {\"colorbar\": {\"outlinewidth\": 0, \"ticks\": \"\"}}, \"type\": \"scattermapbox\"}], \"scatterpolar\": [{\"marker\": {\"colorbar\": {\"outlinewidth\": 0, \"ticks\": \"\"}}, \"type\": \"scatterpolar\"}], \"scatterpolargl\": [{\"marker\": {\"colorbar\": {\"outlinewidth\": 0, \"ticks\": \"\"}}, \"type\": \"scatterpolargl\"}], \"scatterternary\": [{\"marker\": {\"colorbar\": {\"outlinewidth\": 0, \"ticks\": \"\"}}, \"type\": \"scatterternary\"}], \"surface\": [{\"colorbar\": {\"outlinewidth\": 0, \"ticks\": \"\"}, \"colorscale\": [[0.0, \"#0d0887\"], [0.1111111111111111, \"#46039f\"], [0.2222222222222222, \"#7201a8\"], [0.3333333333333333, \"#9c179e\"], [0.4444444444444444, \"#bd3786\"], [0.5555555555555556, \"#d8576b\"], [0.6666666666666666, \"#ed7953\"], [0.7777777777777778, \"#fb9f3a\"], [0.8888888888888888, \"#fdca26\"], [1.0, \"#f0f921\"]], \"type\": \"surface\"}], \"table\": [{\"cells\": {\"fill\": {\"color\": \"#EBF0F8\"}, \"line\": {\"color\": \"white\"}}, \"header\": {\"fill\": {\"color\": \"#C8D4E3\"}, \"line\": {\"color\": \"white\"}}, \"type\": \"table\"}]}, \"layout\": {\"annotationdefaults\": {\"arrowcolor\": \"#2a3f5f\", \"arrowhead\": 0, \"arrowwidth\": 1}, \"autotypenumbers\": \"strict\", \"coloraxis\": {\"colorbar\": {\"outlinewidth\": 0, \"ticks\": \"\"}}, \"colorscale\": {\"diverging\": [[0, \"#8e0152\"], [0.1, \"#c51b7d\"], [0.2, \"#de77ae\"], [0.3, \"#f1b6da\"], [0.4, \"#fde0ef\"], [0.5, \"#f7f7f7\"], [0.6, \"#e6f5d0\"], [0.7, \"#b8e186\"], [0.8, \"#7fbc41\"], [0.9, \"#4d9221\"], [1, \"#276419\"]], \"sequential\": [[0.0, \"#0d0887\"], [0.1111111111111111, \"#46039f\"], [0.2222222222222222, \"#7201a8\"], [0.3333333333333333, \"#9c179e\"], [0.4444444444444444, \"#bd3786\"], [0.5555555555555556, \"#d8576b\"], [0.6666666666666666, \"#ed7953\"], [0.7777777777777778, \"#fb9f3a\"], [0.8888888888888888, \"#fdca26\"], [1.0, \"#f0f921\"]], \"sequentialminus\": [[0.0, \"#0d0887\"], [0.1111111111111111, \"#46039f\"], [0.2222222222222222, \"#7201a8\"], [0.3333333333333333, \"#9c179e\"], [0.4444444444444444, \"#bd3786\"], [0.5555555555555556, \"#d8576b\"], [0.6666666666666666, \"#ed7953\"], [0.7777777777777778, \"#fb9f3a\"], [0.8888888888888888, \"#fdca26\"], [1.0, \"#f0f921\"]]}, \"colorway\": [\"#636efa\", \"#EF553B\", \"#00cc96\", \"#ab63fa\", \"#FFA15A\", \"#19d3f3\", \"#FF6692\", \"#B6E880\", \"#FF97FF\", \"#FECB52\"], \"font\": {\"color\": \"#2a3f5f\"}, \"geo\": {\"bgcolor\": \"white\", \"lakecolor\": \"white\", \"landcolor\": \"#E5ECF6\", \"showlakes\": true, \"showland\": true, \"subunitcolor\": \"white\"}, \"hoverlabel\": {\"align\": \"left\"}, \"hovermode\": \"closest\", \"mapbox\": {\"style\": \"light\"}, \"paper_bgcolor\": \"white\", \"plot_bgcolor\": \"#E5ECF6\", \"polar\": {\"angularaxis\": {\"gridcolor\": \"white\", \"linecolor\": \"white\", \"ticks\": \"\"}, \"bgcolor\": \"#E5ECF6\", \"radialaxis\": {\"gridcolor\": \"white\", \"linecolor\": \"white\", \"ticks\": \"\"}}, \"scene\": {\"xaxis\": {\"backgroundcolor\": \"#E5ECF6\", \"gridcolor\": \"white\", \"gridwidth\": 2, \"linecolor\": \"white\", \"showbackground\": true, \"ticks\": \"\", \"zerolinecolor\": \"white\"}, \"yaxis\": {\"backgroundcolor\": \"#E5ECF6\", \"gridcolor\": \"white\", \"gridwidth\": 2, \"linecolor\": \"white\", \"showbackground\": true, \"ticks\": \"\", \"zerolinecolor\": \"white\"}, \"zaxis\": {\"backgroundcolor\": \"#E5ECF6\", \"gridcolor\": \"white\", \"gridwidth\": 2, \"linecolor\": \"white\", \"showbackground\": true, \"ticks\": \"\", \"zerolinecolor\": \"white\"}}, \"shapedefaults\": {\"line\": {\"color\": \"#2a3f5f\"}}, \"ternary\": {\"aaxis\": {\"gridcolor\": \"white\", \"linecolor\": \"white\", \"ticks\": \"\"}, \"baxis\": {\"gridcolor\": \"white\", \"linecolor\": \"white\", \"ticks\": \"\"}, \"bgcolor\": \"#E5ECF6\", \"caxis\": {\"gridcolor\": \"white\", \"linecolor\": \"white\", \"ticks\": \"\"}}, \"title\": {\"x\": 0.05}, \"xaxis\": {\"automargin\": true, \"gridcolor\": \"white\", \"linecolor\": \"white\", \"ticks\": \"\", \"title\": {\"standoff\": 15}, \"zerolinecolor\": \"white\", \"zerolinewidth\": 2}, \"yaxis\": {\"automargin\": true, \"gridcolor\": \"white\", \"linecolor\": \"white\", \"ticks\": \"\", \"title\": {\"standoff\": 15}, \"zerolinecolor\": \"white\", \"zerolinewidth\": 2}}}, \"title\": {\"text\": \"PubMed Publications for Research Related to Covid-19 Vaccine\"}, \"xaxis\": {\"anchor\": \"y\", \"domain\": [0.0, 1.0], \"dtick\": 1, \"tick0\": 1, \"tickformat\": \"%m\\n%Y\", \"tickmode\": \"linear\", \"type\": \"category\"}, \"xaxis2\": {\"anchor\": \"y2\", \"domain\": [0.0, 1.0], \"dtick\": 1, \"tick0\": 1, \"tickformat\": \"%m\\n%Y\", \"type\": \"category\"}, \"yaxis\": {\"anchor\": \"x\", \"domain\": [0.7333333333333334, 1.0]}, \"yaxis2\": {\"anchor\": \"x2\", \"domain\": [0.3666666666666667, 0.6333333333333333]}},                        {\"responsive\": true}                    ).then(function(){\n",
       "                            \n",
       "var gd = document.getElementById('09df45ce-9431-49af-aeb3-fe0cae971f93');\n",
       "var x = new MutationObserver(function (mutations, observer) {{\n",
       "        var display = window.getComputedStyle(gd).display;\n",
       "        if (!display || display === 'none') {{\n",
       "            console.log([gd, 'removed!']);\n",
       "            Plotly.purge(gd);\n",
       "            observer.disconnect();\n",
       "        }}\n",
       "}});\n",
       "\n",
       "// Listen for the removal of the full notebook cells\n",
       "var notebookContainer = gd.closest('#notebook-container');\n",
       "if (notebookContainer) {{\n",
       "    x.observe(notebookContainer, {childList: true});\n",
       "}}\n",
       "\n",
       "// Listen for the clearing of the current output cell\n",
       "var outputEl = gd.closest('.output');\n",
       "if (outputEl) {{\n",
       "    x.observe(outputEl, {childList: true});\n",
       "}}\n",
       "\n",
       "                        })                };                });            </script>        </div>"
      ]
     },
     "metadata": {},
     "output_type": "display_data"
    }
   ],
   "source": [
    "#create dashboard to visualize publications by month, trend over time, and summary statistics\n",
    "\n",
    "#define subplot figure contents\n",
    "fig = make_subplots(\n",
    "    rows=3, cols=1,\n",
    "    subplot_titles=(\"Publications by Month\", \"Publications by Country\", \"Top Authors by Number of Publications\"),\n",
    "    shared_xaxes=False,\n",
    "    vertical_spacing=0.1,\n",
    "    specs=[[{\"type\": \"bar\"}],\n",
    "           [{\"type\": \"bar\"}],\n",
    "           [{\"type\": \"table\"}]])\n",
    "\n",
    "#create histogram in first row\n",
    "fig.add_trace(go.Bar(x=df_pubs_by_month.loc[:12,'Pub_Date'], y=df_pubs_by_month.loc[:12,'Count'],text=df_pubs_by_month.loc[:12,'Count'],\n",
    "                     textposition='auto',name='Publications by Month'), row=1, col=1 )\n",
    "fig.update_xaxes(\n",
    "    dtick=1,\n",
    "    tick0=1,\n",
    "    tickformat=\"%m\\n%Y\", type='category')\n",
    "#fig.update_layout(xaxis = dict(tickformat=\"%b\\n%Y\" ))\n",
    "\n",
    "#create boxplot in second row\n",
    "fig.add_trace(go.Bar(x=df_pubs_by_country.loc[:10,'Country'], y=df_pubs_by_country.loc[:10,'Num_Publications'],text=df_pubs_by_country.loc[:10,'Num_Publications'],\n",
    "                     textposition='auto',name='Publications by Country'), row=2, col=1 )\n",
    "fig.update_layout(xaxis = dict(tickmode = 'linear',tick0 = 1,dtick = 1 ))\n",
    "\n",
    "#create summary statistics table in thirs row\n",
    "fig.add_trace(go.Table(header=dict(values=['Author', 'Publications', 'Affiliations']), \n",
    "                       cells=dict(values=[df_top_authors.loc[:2,'Author'], df_top_authors.loc[:2,'Count'], \n",
    "                                          df_top_authors.loc[:2,'Affiliation']])), row=3, col=1)\n",
    "\n",
    "#define layout\n",
    "fig.update_layout(\n",
    "    height=1000,\n",
    "    showlegend=False,\n",
    "    title_text=\"PubMed Publications for Research Related to Covid-19 Vaccine\")\n",
    "\n",
    "fig.show()"
   ]
  },
  {
   "cell_type": "markdown",
   "metadata": {},
   "source": [
    "### Save dashboard image to local machine then upload to AWS"
   ]
  },
  {
   "cell_type": "code",
   "execution_count": 370,
   "metadata": {},
   "outputs": [],
   "source": [
    "#save image to local machine\n",
    "fig.write_image(\"pubmed_dashboard2.png\", scale=1, width=1200, height=1200)"
   ]
  },
  {
   "cell_type": "code",
   "execution_count": 374,
   "metadata": {},
   "outputs": [],
   "source": [
    "#upload image to AWS\n",
    "s3 = boto3.resource('s3')\n",
    "s3.meta.client.upload_file('pubmed_dashboard2.png', 'pubmedcrawler', 'pubmed_dashboard2.png', \n",
    "                           ExtraArgs={'ACL':'public-read'})"
   ]
  }
 ],
 "metadata": {
  "colab": {
   "collapsed_sections": [],
   "name": "Group 9 Project Code.ipynb",
   "provenance": []
  },
  "kernelspec": {
   "display_name": "Python 3",
   "language": "python",
   "name": "python3"
  },
  "language_info": {
   "codemirror_mode": {
    "name": "ipython",
    "version": 3
   },
   "file_extension": ".py",
   "mimetype": "text/x-python",
   "name": "python",
   "nbconvert_exporter": "python",
   "pygments_lexer": "ipython3",
   "version": "3.8.3"
  }
 },
 "nbformat": 4,
 "nbformat_minor": 1
}
