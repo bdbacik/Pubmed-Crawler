{
 "cells": [
  {
   "cell_type": "markdown",
   "metadata": {
    "id": "_eKqyG7wWIS1"
   },
   "source": [
    "## Module 1\n",
    "\n",
    "Pubmed crawler module tht can collect paper title, author list, publication time, and abstract from PUBMED for a given keyword (i.e., SARS-CoV-2) within a pre-specified time window (that is, 01/01/2020 - 12/31/2020). Save the output to csv for further analysis later."
   ]
  },
  {
   "cell_type": "code",
   "execution_count": 230,
   "metadata": {},
   "outputs": [],
   "source": [
    "import pandas as pd\n",
    "import datetime\n",
    "import plotly.express as px\n",
    "import plotly.graph_objects as go\n",
    "from plotly.subplots import make_subplots\n",
    "import sqlite3\n",
    "import numpy as np"
   ]
  },
  {
   "cell_type": "code",
   "execution_count": 127,
   "metadata": {
    "colab": {
     "base_uri": "https://localhost:8080/"
    },
    "id": "f-TT_j42uy0z",
    "outputId": "17d761e0-dba5-40b0-b938-45116b76eb7e"
   },
   "outputs": [],
   "source": [
    "#run once after connecting to install and import tools\n",
    "#!pip install biopython"
   ]
  },
  {
   "cell_type": "code",
   "execution_count": 240,
   "metadata": {
    "id": "VJF9ttvnWIS4"
   },
   "outputs": [],
   "source": [
    "#write Pubmed search query\n",
    "from Bio import Entrez\n",
    "\n",
    "def search(query):\n",
    "    Entrez.email = 'bdbacik@gmail.com'\n",
    "    handle = Entrez.esearch(db='pubmed',\n",
    "                            sort='relevance',\n",
    "                            retmax='1000',\n",
    "                            retmode='xml',\n",
    "                            datetype='pdat',\n",
    "                            mindate='2020/03/01',\n",
    "                            maxdate='2020/12/31',\n",
    "                            term=query)\n",
    "    results = Entrez.read(handle)\n",
    "    return results\n",
    "\n",
    "def fetch_details(id_list):\n",
    "    ids = ','.join(id_list)\n",
    "    Entrez.email = 'isela.delacerda@gmail.com'\n",
    "    handle = Entrez.efetch(db='pubmed',\n",
    "                           retmode='xml',\n",
    "                           id=ids)\n",
    "    results = Entrez.read(handle)\n",
    "    return results\n",
    "\n",
    "\n",
    "if __name__ == '__main__':\n",
    "    results = search('SARS-CoV-2')\n",
    "    id_list = results['IdList']\n",
    "    papers = fetch_details(id_list)\n",
    "#print(papers)"
   ]
  },
  {
   "cell_type": "code",
   "execution_count": 241,
   "metadata": {
    "colab": {
     "base_uri": "https://localhost:8080/",
     "height": 204
    },
    "id": "vRmpQqM5WIS8",
    "outputId": "bbb9689a-9d09-4246-8d5e-1dcf7be36e8c"
   },
   "outputs": [
    {
     "data": {
      "text/html": [
       "<div>\n",
       "<style scoped>\n",
       "    .dataframe tbody tr th:only-of-type {\n",
       "        vertical-align: middle;\n",
       "    }\n",
       "\n",
       "    .dataframe tbody tr th {\n",
       "        vertical-align: top;\n",
       "    }\n",
       "\n",
       "    .dataframe thead th {\n",
       "        text-align: right;\n",
       "    }\n",
       "</style>\n",
       "<table border=\"1\" class=\"dataframe\">\n",
       "  <thead>\n",
       "    <tr style=\"text-align: right;\">\n",
       "      <th></th>\n",
       "      <th>Title</th>\n",
       "      <th>DateCompleted</th>\n",
       "      <th>PublicationDate</th>\n",
       "      <th>Authors</th>\n",
       "      <th>Abstract</th>\n",
       "    </tr>\n",
       "  </thead>\n",
       "  <tbody>\n",
       "    <tr>\n",
       "      <th>0</th>\n",
       "      <td>Genome-wide CRISPR Screens Reveal Host Factors...</td>\n",
       "      <td>[{'Year': '2020', 'Month': '10', 'Day': '20'}]</td>\n",
       "      <td>01</td>\n",
       "      <td>[{'Identifier': [], 'AffiliationInfo': [{'Iden...</td>\n",
       "      <td>Identification of host genes essential for sev...</td>\n",
       "    </tr>\n",
       "    <tr>\n",
       "      <th>1</th>\n",
       "      <td>Accuracy of a RT-qPCR SARS-CoV-2 detection ass...</td>\n",
       "      <td>[{'Year': '2020', 'Month': '09', 'Day': '09'}]</td>\n",
       "      <td>01</td>\n",
       "      <td>[{'Identifier': [], 'AffiliationInfo': [{'Iden...</td>\n",
       "      <td>The current COVID-19 pandemic constitutes a th...</td>\n",
       "    </tr>\n",
       "    <tr>\n",
       "      <th>2</th>\n",
       "      <td>Newcastle disease virus (NDV) expressing the s...</td>\n",
       "      <td>[{'Year': '2020', 'Month': '11', 'Day': '21'}]</td>\n",
       "      <td>Dec</td>\n",
       "      <td>[{'Identifier': [], 'AffiliationInfo': [{'Iden...</td>\n",
       "      <td>Due to the lack of protective immunity of huma...</td>\n",
       "    </tr>\n",
       "    <tr>\n",
       "      <th>3</th>\n",
       "      <td>Complete Mapping of Mutations to the SARS-CoV-...</td>\n",
       "      <td>[{'Year': '2020', 'Month': '11', 'Day': '19'}]</td>\n",
       "      <td>01</td>\n",
       "      <td>[{'Identifier': [], 'AffiliationInfo': [{'Iden...</td>\n",
       "      <td>Antibodies targeting the SARS-CoV-2 spike rece...</td>\n",
       "    </tr>\n",
       "    <tr>\n",
       "      <th>4</th>\n",
       "      <td>Massive dissemination of a SARS-CoV-2 Spike Y8...</td>\n",
       "      <td>[]</td>\n",
       "      <td>Dec</td>\n",
       "      <td>[{'Identifier': ['https://orcid.org/0000-0003-...</td>\n",
       "      <td>Genomic surveillance of SARS-CoV-2 was rapidly...</td>\n",
       "    </tr>\n",
       "  </tbody>\n",
       "</table>\n",
       "</div>"
      ],
      "text/plain": [
       "                                               Title  \\\n",
       "0  Genome-wide CRISPR Screens Reveal Host Factors...   \n",
       "1  Accuracy of a RT-qPCR SARS-CoV-2 detection ass...   \n",
       "2  Newcastle disease virus (NDV) expressing the s...   \n",
       "3  Complete Mapping of Mutations to the SARS-CoV-...   \n",
       "4  Massive dissemination of a SARS-CoV-2 Spike Y8...   \n",
       "\n",
       "                                    DateCompleted PublicationDate  \\\n",
       "0  [{'Year': '2020', 'Month': '10', 'Day': '20'}]              01   \n",
       "1  [{'Year': '2020', 'Month': '09', 'Day': '09'}]              01   \n",
       "2  [{'Year': '2020', 'Month': '11', 'Day': '21'}]             Dec   \n",
       "3  [{'Year': '2020', 'Month': '11', 'Day': '19'}]              01   \n",
       "4                                              []             Dec   \n",
       "\n",
       "                                             Authors  \\\n",
       "0  [{'Identifier': [], 'AffiliationInfo': [{'Iden...   \n",
       "1  [{'Identifier': [], 'AffiliationInfo': [{'Iden...   \n",
       "2  [{'Identifier': [], 'AffiliationInfo': [{'Iden...   \n",
       "3  [{'Identifier': [], 'AffiliationInfo': [{'Iden...   \n",
       "4  [{'Identifier': ['https://orcid.org/0000-0003-...   \n",
       "\n",
       "                                            Abstract  \n",
       "0  Identification of host genes essential for sev...  \n",
       "1  The current COVID-19 pandemic constitutes a th...  \n",
       "2  Due to the lack of protective immunity of huma...  \n",
       "3  Antibodies targeting the SARS-CoV-2 spike rece...  \n",
       "4  Genomic surveillance of SARS-CoV-2 was rapidly...  "
      ]
     },
     "execution_count": 241,
     "metadata": {},
     "output_type": "execute_result"
    }
   ],
   "source": [
    "#pull relevant fields from query into pandas dataframe\n",
    "\n",
    "searchoutput = {\"Title\":[], \"DateCompleted\":[], \"PublicationDate\": [], \"Authors\": [], \"Abstract\": []}\n",
    "for i, paper in enumerate(papers['PubmedArticle']): \n",
    "    try:\n",
    "        Title = paper['MedlineCitation']['Article']['ArticleTitle']\n",
    "        DateCompleted = paper['MedlineCitation']['Article']['ArticleDate'] #['Journal']['JournalIssue']['PubDate']['Month']\n",
    "        PublicationDate = paper['MedlineCitation']['Article']['Journal']['JournalIssue']['PubDate']['Month']\n",
    "        Authors = paper['MedlineCitation']['Article']['AuthorList']\n",
    "        Abstract = paper['MedlineCitation']['Article']['Abstract']['AbstractText'][0]\n",
    "    except KeyError as e:\n",
    "        continue\n",
    "    searchoutput[\"Title\"].append(Title)\n",
    "    searchoutput['DateCompleted'].append(DateCompleted)\n",
    "    searchoutput[\"PublicationDate\"].append(PublicationDate)\n",
    "    searchoutput[\"Authors\"].append(Authors)\n",
    "    searchoutput[\"Abstract\"].append(str(Abstract))\n",
    "\n",
    "df = pd.DataFrame(searchoutput)\n",
    "\n",
    "df.head()"
   ]
  },
  {
   "cell_type": "code",
   "execution_count": 242,
   "metadata": {
    "colab": {
     "base_uri": "https://localhost:8080/"
    },
    "id": "uGPFqOmWS5IE",
    "outputId": "e6b82cff-5d8d-4067-940a-d80bd61d74ed"
   },
   "outputs": [
    {
     "name": "stdout",
     "output_type": "stream",
     "text": [
      "12    408\n",
      "01    169\n",
      "11    152\n",
      "10     38\n",
      "09     30\n",
      "02     26\n",
      "03     17\n",
      "08      5\n",
      "07      2\n",
      "05      2\n",
      "06      1\n",
      "Name: PublicationDate, dtype: int64\n",
      "11    183\n",
      "12    157\n",
      "10    155\n",
      "09    112\n",
      "08     61\n",
      "06     36\n",
      "07     34\n",
      "05     22\n",
      "04      9\n",
      "03      1\n",
      "01      1\n",
      "Name: DateCompleted, dtype: int64\n"
     ]
    }
   ],
   "source": [
    "# Clean Date Completed and Publication Date Columns\n",
    "df[\"PublicationDate\"] = df[\"PublicationDate\"].replace([\"Jan\",\"Feb\",\"Mar\",\"Apr\",\"May\",\"Jun\",\"Jul\",\"Aug\",\"Sep\",\"Oct\",\"Nov\",\"Dec\"],[\"01\",\"02\",\"03\",\"04\",\"05\",\"06\",\"07\",\"08\",\"09\",\"10\",\"11\",\"12\"])\n",
    "df['DateCompleted'] = df.explode('DateCompleted')['DateCompleted'].apply(pd.Series).loc[:,['Month']]\n",
    "print(df[\"PublicationDate\"].value_counts())\n",
    "print(df['DateCompleted'].value_counts())"
   ]
  },
  {
   "cell_type": "code",
   "execution_count": 243,
   "metadata": {
    "colab": {
     "base_uri": "https://localhost:8080/",
     "height": 204
    },
    "id": "mb0z8o8Ud7Bt",
    "outputId": "3ec5a041-0f9e-48ba-b4c8-6cc8a1d7c6fa"
   },
   "outputs": [
    {
     "data": {
      "text/html": [
       "<div>\n",
       "<style scoped>\n",
       "    .dataframe tbody tr th:only-of-type {\n",
       "        vertical-align: middle;\n",
       "    }\n",
       "\n",
       "    .dataframe tbody tr th {\n",
       "        vertical-align: top;\n",
       "    }\n",
       "\n",
       "    .dataframe thead th {\n",
       "        text-align: right;\n",
       "    }\n",
       "</style>\n",
       "<table border=\"1\" class=\"dataframe\">\n",
       "  <thead>\n",
       "    <tr style=\"text-align: right;\">\n",
       "      <th></th>\n",
       "      <th>Title</th>\n",
       "      <th>DateCompleted</th>\n",
       "      <th>PublicationDate</th>\n",
       "      <th>Abstract</th>\n",
       "      <th>Author</th>\n",
       "      <th>AffiliationInfo</th>\n",
       "    </tr>\n",
       "  </thead>\n",
       "  <tbody>\n",
       "    <tr>\n",
       "      <th>0</th>\n",
       "      <td>Genome-wide CRISPR Screens Reveal Host Factors...</td>\n",
       "      <td>10</td>\n",
       "      <td>01</td>\n",
       "      <td>Identification of host genes essential for sev...</td>\n",
       "      <td>Jin Wei</td>\n",
       "      <td>[{'Identifier': [], 'Affiliation': 'Department...</td>\n",
       "    </tr>\n",
       "    <tr>\n",
       "      <th>0</th>\n",
       "      <td>Genome-wide CRISPR Screens Reveal Host Factors...</td>\n",
       "      <td>10</td>\n",
       "      <td>01</td>\n",
       "      <td>Identification of host genes essential for sev...</td>\n",
       "      <td>Mia Madel Alfajaro</td>\n",
       "      <td>[{'Identifier': [], 'Affiliation': 'Department...</td>\n",
       "    </tr>\n",
       "    <tr>\n",
       "      <th>0</th>\n",
       "      <td>Genome-wide CRISPR Screens Reveal Host Factors...</td>\n",
       "      <td>10</td>\n",
       "      <td>01</td>\n",
       "      <td>Identification of host genes essential for sev...</td>\n",
       "      <td>Peter C DeWeirdt</td>\n",
       "      <td>[{'Identifier': [], 'Affiliation': 'Genetic Pe...</td>\n",
       "    </tr>\n",
       "    <tr>\n",
       "      <th>0</th>\n",
       "      <td>Genome-wide CRISPR Screens Reveal Host Factors...</td>\n",
       "      <td>10</td>\n",
       "      <td>01</td>\n",
       "      <td>Identification of host genes essential for sev...</td>\n",
       "      <td>Ruth E Hanna</td>\n",
       "      <td>[{'Identifier': [], 'Affiliation': 'Genetic Pe...</td>\n",
       "    </tr>\n",
       "    <tr>\n",
       "      <th>0</th>\n",
       "      <td>Genome-wide CRISPR Screens Reveal Host Factors...</td>\n",
       "      <td>10</td>\n",
       "      <td>01</td>\n",
       "      <td>Identification of host genes essential for sev...</td>\n",
       "      <td>William J Lu-Culligan</td>\n",
       "      <td>[{'Identifier': [], 'Affiliation': 'Department...</td>\n",
       "    </tr>\n",
       "  </tbody>\n",
       "</table>\n",
       "</div>"
      ],
      "text/plain": [
       "                                               Title DateCompleted  \\\n",
       "0  Genome-wide CRISPR Screens Reveal Host Factors...            10   \n",
       "0  Genome-wide CRISPR Screens Reveal Host Factors...            10   \n",
       "0  Genome-wide CRISPR Screens Reveal Host Factors...            10   \n",
       "0  Genome-wide CRISPR Screens Reveal Host Factors...            10   \n",
       "0  Genome-wide CRISPR Screens Reveal Host Factors...            10   \n",
       "\n",
       "  PublicationDate                                           Abstract  \\\n",
       "0              01  Identification of host genes essential for sev...   \n",
       "0              01  Identification of host genes essential for sev...   \n",
       "0              01  Identification of host genes essential for sev...   \n",
       "0              01  Identification of host genes essential for sev...   \n",
       "0              01  Identification of host genes essential for sev...   \n",
       "\n",
       "                  Author                                    AffiliationInfo  \n",
       "0                Jin Wei  [{'Identifier': [], 'Affiliation': 'Department...  \n",
       "0     Mia Madel Alfajaro  [{'Identifier': [], 'Affiliation': 'Department...  \n",
       "0       Peter C DeWeirdt  [{'Identifier': [], 'Affiliation': 'Genetic Pe...  \n",
       "0           Ruth E Hanna  [{'Identifier': [], 'Affiliation': 'Genetic Pe...  \n",
       "0  William J Lu-Culligan  [{'Identifier': [], 'Affiliation': 'Department...  "
      ]
     },
     "execution_count": 243,
     "metadata": {},
     "output_type": "execute_result"
    }
   ],
   "source": [
    "#create new dataframe with columns for first and last name of each author of each paper\n",
    "df2 = df.explode('Authors')['Authors'].apply(pd.Series).loc[:,['LastName','ForeName','AffiliationInfo']]\n",
    "df2[\"Author\"] = df2[\"ForeName\"].str.cat(df2[\"LastName\"], sep=\" \")\n",
    "#merge original df and df2 with author names\n",
    "df3 = pd.merge(df,df2,left_index=True,right_index=True)\n",
    "df3 = df3[[\"Title\",'DateCompleted',\"PublicationDate\", \"Abstract\", \"Author\", 'AffiliationInfo']]\n",
    "df3.head()"
   ]
  },
  {
   "cell_type": "code",
   "execution_count": 244,
   "metadata": {
    "id": "h1ID8nHN0O0r"
   },
   "outputs": [],
   "source": [
    "#save new dataframe with author names to csv\n",
    "df3.to_csv(r'trialrun2.csv', index=False)"
   ]
  },
  {
   "cell_type": "markdown",
   "metadata": {
    "id": "tNMStmmj8qa6"
   },
   "source": [
    "# Module 2\n",
    "Database module that imports the CSV file and build SQLite database. Then query SQL table to find authors with the most publications with keyword 'SARS-CoV-2' in 2020 and pull all publications for a given author."
   ]
  },
  {
   "cell_type": "code",
   "execution_count": 245,
   "metadata": {
    "id": "6_8kz_cEWuI1"
   },
   "outputs": [],
   "source": [
    "conn = sqlite3.connect('pubmed_crawl.db')  # create a new database or connect to database if already exists\n",
    "c = conn.cursor() # create connection object"
   ]
  },
  {
   "cell_type": "code",
   "execution_count": 246,
   "metadata": {
    "colab": {
     "base_uri": "https://localhost:8080/"
    },
    "id": "-D_vRsSV4oOk",
    "outputId": "1d4da8d9-361a-4c61-f0a2-f09c99670947"
   },
   "outputs": [
    {
     "name": "stdout",
     "output_type": "stream",
     "text": [
      "SQL table already exists!\n"
     ]
    }
   ],
   "source": [
    "# Create table if it doesn't yet exist\n",
    "try:\n",
    "  c.execute('''CREATE TABLE pubmed_table2\n",
    "              ([Title] text, [DateCompleted] text, [PublicationDate] text, [Abstract] text, [Author] text, [AffiliationInfo] text)''')\n",
    "  conn.commit()\n",
    "  print('SQL table created successfully!')\n",
    "\n",
    "except:\n",
    "  print('SQL table already exists!')"
   ]
  },
  {
   "cell_type": "code",
   "execution_count": 214,
   "metadata": {
    "id": "-elNaMw1ZmZB"
   },
   "outputs": [],
   "source": [
    "df = pd.read_csv('trialrun2.csv') #read csv file created in Task 1 (could also access pandas df directly)\n",
    "df.to_sql('pubmed_table2', conn, if_exists='replace', index=False) #add data to sql table"
   ]
  },
  {
   "cell_type": "code",
   "execution_count": 248,
   "metadata": {},
   "outputs": [
    {
     "data": {
      "text/plain": [
       "[('Ralph S Baric', 7),\n",
       " ('Kuldeep Dhama', 5),\n",
       " ('Alberto Paniz-Mondolfi', 4),\n",
       " ('Dan H Barouch', 4),\n",
       " ('Hui Wang', 4),\n",
       " ('Luis Martinez-Sobrido', 4),\n",
       " ('Mehul S Suthar', 4),\n",
       " ('Sandra Ciesek', 4),\n",
       " ('Xin Zhao', 4),\n",
       " ('Yu Chen', 4)]"
      ]
     },
     "execution_count": 248,
     "metadata": {},
     "output_type": "execute_result"
    }
   ],
   "source": [
    "#SQL query to find top 10 authors by number of 'SARS-CoV-2' publications in 2020\n",
    "c.execute('SELECT DISTINCT Author, count() OVER(PARTITION BY Author) as Count FROM pubmed_table2 WHERE Author IS NOT NULL ORDER BY Count DESC LIMIT 10').fetchall()"
   ]
  },
  {
   "cell_type": "code",
   "execution_count": 255,
   "metadata": {
    "colab": {
     "base_uri": "https://localhost:8080/"
    },
    "id": "dldr1rNla7Hf",
    "outputId": "310de8e7-e73a-437b-a519-744df5784cbd"
   },
   "outputs": [
    {
     "name": "stdout",
     "output_type": "stream",
     "text": [
      "Enter author first name last name(separated by space): Ralph S Baric\n",
      "Ralph S Baric has (7,) articles. \n",
      "\n",
      "Ralph S Baric is affiliated with:  (\"[{'Identifier': [], 'Affiliation': 'Department of Microbiology and Immunology, School of Medicine, University of North Carolina at Chapel Hill, Chapel Hill, NC 27599, United States; Department of Epidemiology, University of North Carolina at Chapel Hill, Chapel Hill, NC 27599, United States.'}]\",) \n",
      "\n",
      "('Newcastle disease virus (NDV) expressing the spike protein of SARS-CoV-2 as a live virus vaccine candidate.',)\n",
      "('Genomic RNA Elements Drive Phase Separation of the SARS-CoV-2 Nucleocapsid.',)\n",
      "('Human Lung Stem Cell-Based Alveolospheres Provide Insights into SARS-CoV-2-Mediated Interferon Responses and Pneumocyte Dysfunction.',)\n",
      "('Elicitation of Potent Neutralizing Antibody Responses by Designed Protein Nanoparticle Vaccines for SARS-CoV-2.',)\n",
      "('De novo design of potent and resilient hACE2 decoys to neutralize SARS-CoV-2.',)\n",
      "('Progenitor identification and SARS-CoV-2 infection in human distal lung organoids.',)\n",
      "('SARS-CoV-2 D614G variant exhibits efficient replication ex vivo and transmission in vivo.',)\n"
     ]
    }
   ],
   "source": [
    "#query sql table to return all publications for a given author using input from previous step\n",
    "def count_titles(full_name):\n",
    "    #prompt user to input author name they wish to search for\n",
    "    full_name = input('Enter author first name last name(separated by space): ')\n",
    "    count = c.execute('SELECT count(*) FROM pubmed_table2 WHERE Author = ?', (full_name,)).fetchone()\n",
    "    titles = c.execute('SELECT Title FROM pubmed_table2 WHERE Author = ?', (full_name,)).fetchall()\n",
    "    affiliation = c.execute('SELECT AffiliationInfo FROM pubmed_table2 WHERE Author = ?', (full_name,)).fetchone()\n",
    "    print(full_name, \"has\" , count , \"articles.\" ,\"\\n\")\n",
    "    print(full_name, 'is affiliated with: ', affiliation, '\\n')\n",
    "    for row in titles:\n",
    "        print(row)\n",
    "    \n",
    "count_titles(full_name)"
   ]
  },
  {
   "cell_type": "markdown",
   "metadata": {
    "id": "wI_7z7DEfgLL"
   },
   "source": [
    "# Module 3 \n",
    "Read CSV file and visualize trend in number of publications by month"
   ]
  },
  {
   "cell_type": "code",
   "execution_count": 263,
   "metadata": {
    "colab": {
     "base_uri": "https://localhost:8080/"
    },
    "id": "zguU2n90fgLL",
    "outputId": "a777bb1f-ed01-42fb-aa41-f28cdb661b93"
   },
   "outputs": [],
   "source": [
    "#Take a subset of the titles only once\n",
    "publications = pd.read_csv('trialrun2.csv')\n",
    "publications = publications.drop_duplicates(subset=['Title'])\n",
    "pubs_by_month = publications[\"DateCompleted\"].value_counts()\n",
    "#get summary statistics for publications by month\n",
    "pubs_by_month_summary = pubs_by_month.describe()"
   ]
  },
  {
   "cell_type": "code",
   "execution_count": 264,
   "metadata": {
    "colab": {
     "base_uri": "https://localhost:8080/",
     "height": 817
    },
    "id": "OSqOkWOIgUIH",
    "outputId": "ebb5439d-cafd-4e5f-aabb-1a7214e71fa8"
   },
   "outputs": [
    {
     "data": {
      "application/vnd.plotly.v1+json": {
       "config": {
        "plotlyServerURL": "https://plot.ly"
       },
       "data": [
        {
         "name": "Bar Chart of # Publications by Month",
         "type": "bar",
         "x": [
          11,
          12,
          10,
          9,
          8,
          6,
          7,
          5,
          4,
          3,
          1
         ],
         "xaxis": "x",
         "y": [
          183,
          157,
          155,
          112,
          61,
          36,
          34,
          22,
          9,
          1,
          1
         ],
         "yaxis": "y"
        },
        {
         "type": "box",
         "x": [
          183,
          157,
          155,
          112,
          61,
          36,
          34,
          22,
          9,
          1,
          1
         ],
         "xaxis": "x2",
         "yaxis": "y2"
        },
        {
         "cells": {
          "values": [
           [
            "count",
            "mean",
            "std",
            "min",
            "25%",
            "50%",
            "75%",
            "max"
           ],
           [
            11,
            70.0909090909091,
            68.8526753953026,
            1,
            15.5,
            36,
            133.5,
            183
           ]
          ]
         },
         "domain": {
          "x": [
           0,
           1
          ],
          "y": [
           0,
           0.26666666666666666
          ]
         },
         "header": {
          "values": [
           "Stat",
           "Value"
          ]
         },
         "type": "table"
        }
       ],
       "layout": {
        "annotations": [
         {
          "font": {
           "size": 16
          },
          "showarrow": false,
          "text": "Bar Chart of # Publications by Month",
          "x": 0.5,
          "xanchor": "center",
          "xref": "paper",
          "y": 1,
          "yanchor": "bottom",
          "yref": "paper"
         },
         {
          "font": {
           "size": 16
          },
          "showarrow": false,
          "text": "Boxplot of # Publications by Month",
          "x": 0.5,
          "xanchor": "center",
          "xref": "paper",
          "y": 0.6333333333333333,
          "yanchor": "bottom",
          "yref": "paper"
         },
         {
          "font": {
           "size": 16
          },
          "showarrow": false,
          "text": "Summary Statistics of # Publications by Month",
          "x": 0.5,
          "xanchor": "center",
          "xref": "paper",
          "y": 0.26666666666666666,
          "yanchor": "bottom",
          "yref": "paper"
         }
        ],
        "height": 800,
        "showlegend": false,
        "template": {
         "data": {
          "bar": [
           {
            "error_x": {
             "color": "#2a3f5f"
            },
            "error_y": {
             "color": "#2a3f5f"
            },
            "marker": {
             "line": {
              "color": "#E5ECF6",
              "width": 0.5
             }
            },
            "type": "bar"
           }
          ],
          "barpolar": [
           {
            "marker": {
             "line": {
              "color": "#E5ECF6",
              "width": 0.5
             }
            },
            "type": "barpolar"
           }
          ],
          "carpet": [
           {
            "aaxis": {
             "endlinecolor": "#2a3f5f",
             "gridcolor": "white",
             "linecolor": "white",
             "minorgridcolor": "white",
             "startlinecolor": "#2a3f5f"
            },
            "baxis": {
             "endlinecolor": "#2a3f5f",
             "gridcolor": "white",
             "linecolor": "white",
             "minorgridcolor": "white",
             "startlinecolor": "#2a3f5f"
            },
            "type": "carpet"
           }
          ],
          "choropleth": [
           {
            "colorbar": {
             "outlinewidth": 0,
             "ticks": ""
            },
            "type": "choropleth"
           }
          ],
          "contour": [
           {
            "colorbar": {
             "outlinewidth": 0,
             "ticks": ""
            },
            "colorscale": [
             [
              0,
              "#0d0887"
             ],
             [
              0.1111111111111111,
              "#46039f"
             ],
             [
              0.2222222222222222,
              "#7201a8"
             ],
             [
              0.3333333333333333,
              "#9c179e"
             ],
             [
              0.4444444444444444,
              "#bd3786"
             ],
             [
              0.5555555555555556,
              "#d8576b"
             ],
             [
              0.6666666666666666,
              "#ed7953"
             ],
             [
              0.7777777777777778,
              "#fb9f3a"
             ],
             [
              0.8888888888888888,
              "#fdca26"
             ],
             [
              1,
              "#f0f921"
             ]
            ],
            "type": "contour"
           }
          ],
          "contourcarpet": [
           {
            "colorbar": {
             "outlinewidth": 0,
             "ticks": ""
            },
            "type": "contourcarpet"
           }
          ],
          "heatmap": [
           {
            "colorbar": {
             "outlinewidth": 0,
             "ticks": ""
            },
            "colorscale": [
             [
              0,
              "#0d0887"
             ],
             [
              0.1111111111111111,
              "#46039f"
             ],
             [
              0.2222222222222222,
              "#7201a8"
             ],
             [
              0.3333333333333333,
              "#9c179e"
             ],
             [
              0.4444444444444444,
              "#bd3786"
             ],
             [
              0.5555555555555556,
              "#d8576b"
             ],
             [
              0.6666666666666666,
              "#ed7953"
             ],
             [
              0.7777777777777778,
              "#fb9f3a"
             ],
             [
              0.8888888888888888,
              "#fdca26"
             ],
             [
              1,
              "#f0f921"
             ]
            ],
            "type": "heatmap"
           }
          ],
          "heatmapgl": [
           {
            "colorbar": {
             "outlinewidth": 0,
             "ticks": ""
            },
            "colorscale": [
             [
              0,
              "#0d0887"
             ],
             [
              0.1111111111111111,
              "#46039f"
             ],
             [
              0.2222222222222222,
              "#7201a8"
             ],
             [
              0.3333333333333333,
              "#9c179e"
             ],
             [
              0.4444444444444444,
              "#bd3786"
             ],
             [
              0.5555555555555556,
              "#d8576b"
             ],
             [
              0.6666666666666666,
              "#ed7953"
             ],
             [
              0.7777777777777778,
              "#fb9f3a"
             ],
             [
              0.8888888888888888,
              "#fdca26"
             ],
             [
              1,
              "#f0f921"
             ]
            ],
            "type": "heatmapgl"
           }
          ],
          "histogram": [
           {
            "marker": {
             "colorbar": {
              "outlinewidth": 0,
              "ticks": ""
             }
            },
            "type": "histogram"
           }
          ],
          "histogram2d": [
           {
            "colorbar": {
             "outlinewidth": 0,
             "ticks": ""
            },
            "colorscale": [
             [
              0,
              "#0d0887"
             ],
             [
              0.1111111111111111,
              "#46039f"
             ],
             [
              0.2222222222222222,
              "#7201a8"
             ],
             [
              0.3333333333333333,
              "#9c179e"
             ],
             [
              0.4444444444444444,
              "#bd3786"
             ],
             [
              0.5555555555555556,
              "#d8576b"
             ],
             [
              0.6666666666666666,
              "#ed7953"
             ],
             [
              0.7777777777777778,
              "#fb9f3a"
             ],
             [
              0.8888888888888888,
              "#fdca26"
             ],
             [
              1,
              "#f0f921"
             ]
            ],
            "type": "histogram2d"
           }
          ],
          "histogram2dcontour": [
           {
            "colorbar": {
             "outlinewidth": 0,
             "ticks": ""
            },
            "colorscale": [
             [
              0,
              "#0d0887"
             ],
             [
              0.1111111111111111,
              "#46039f"
             ],
             [
              0.2222222222222222,
              "#7201a8"
             ],
             [
              0.3333333333333333,
              "#9c179e"
             ],
             [
              0.4444444444444444,
              "#bd3786"
             ],
             [
              0.5555555555555556,
              "#d8576b"
             ],
             [
              0.6666666666666666,
              "#ed7953"
             ],
             [
              0.7777777777777778,
              "#fb9f3a"
             ],
             [
              0.8888888888888888,
              "#fdca26"
             ],
             [
              1,
              "#f0f921"
             ]
            ],
            "type": "histogram2dcontour"
           }
          ],
          "mesh3d": [
           {
            "colorbar": {
             "outlinewidth": 0,
             "ticks": ""
            },
            "type": "mesh3d"
           }
          ],
          "parcoords": [
           {
            "line": {
             "colorbar": {
              "outlinewidth": 0,
              "ticks": ""
             }
            },
            "type": "parcoords"
           }
          ],
          "pie": [
           {
            "automargin": true,
            "type": "pie"
           }
          ],
          "scatter": [
           {
            "marker": {
             "colorbar": {
              "outlinewidth": 0,
              "ticks": ""
             }
            },
            "type": "scatter"
           }
          ],
          "scatter3d": [
           {
            "line": {
             "colorbar": {
              "outlinewidth": 0,
              "ticks": ""
             }
            },
            "marker": {
             "colorbar": {
              "outlinewidth": 0,
              "ticks": ""
             }
            },
            "type": "scatter3d"
           }
          ],
          "scattercarpet": [
           {
            "marker": {
             "colorbar": {
              "outlinewidth": 0,
              "ticks": ""
             }
            },
            "type": "scattercarpet"
           }
          ],
          "scattergeo": [
           {
            "marker": {
             "colorbar": {
              "outlinewidth": 0,
              "ticks": ""
             }
            },
            "type": "scattergeo"
           }
          ],
          "scattergl": [
           {
            "marker": {
             "colorbar": {
              "outlinewidth": 0,
              "ticks": ""
             }
            },
            "type": "scattergl"
           }
          ],
          "scattermapbox": [
           {
            "marker": {
             "colorbar": {
              "outlinewidth": 0,
              "ticks": ""
             }
            },
            "type": "scattermapbox"
           }
          ],
          "scatterpolar": [
           {
            "marker": {
             "colorbar": {
              "outlinewidth": 0,
              "ticks": ""
             }
            },
            "type": "scatterpolar"
           }
          ],
          "scatterpolargl": [
           {
            "marker": {
             "colorbar": {
              "outlinewidth": 0,
              "ticks": ""
             }
            },
            "type": "scatterpolargl"
           }
          ],
          "scatterternary": [
           {
            "marker": {
             "colorbar": {
              "outlinewidth": 0,
              "ticks": ""
             }
            },
            "type": "scatterternary"
           }
          ],
          "surface": [
           {
            "colorbar": {
             "outlinewidth": 0,
             "ticks": ""
            },
            "colorscale": [
             [
              0,
              "#0d0887"
             ],
             [
              0.1111111111111111,
              "#46039f"
             ],
             [
              0.2222222222222222,
              "#7201a8"
             ],
             [
              0.3333333333333333,
              "#9c179e"
             ],
             [
              0.4444444444444444,
              "#bd3786"
             ],
             [
              0.5555555555555556,
              "#d8576b"
             ],
             [
              0.6666666666666666,
              "#ed7953"
             ],
             [
              0.7777777777777778,
              "#fb9f3a"
             ],
             [
              0.8888888888888888,
              "#fdca26"
             ],
             [
              1,
              "#f0f921"
             ]
            ],
            "type": "surface"
           }
          ],
          "table": [
           {
            "cells": {
             "fill": {
              "color": "#EBF0F8"
             },
             "line": {
              "color": "white"
             }
            },
            "header": {
             "fill": {
              "color": "#C8D4E3"
             },
             "line": {
              "color": "white"
             }
            },
            "type": "table"
           }
          ]
         },
         "layout": {
          "annotationdefaults": {
           "arrowcolor": "#2a3f5f",
           "arrowhead": 0,
           "arrowwidth": 1
          },
          "autotypenumbers": "strict",
          "coloraxis": {
           "colorbar": {
            "outlinewidth": 0,
            "ticks": ""
           }
          },
          "colorscale": {
           "diverging": [
            [
             0,
             "#8e0152"
            ],
            [
             0.1,
             "#c51b7d"
            ],
            [
             0.2,
             "#de77ae"
            ],
            [
             0.3,
             "#f1b6da"
            ],
            [
             0.4,
             "#fde0ef"
            ],
            [
             0.5,
             "#f7f7f7"
            ],
            [
             0.6,
             "#e6f5d0"
            ],
            [
             0.7,
             "#b8e186"
            ],
            [
             0.8,
             "#7fbc41"
            ],
            [
             0.9,
             "#4d9221"
            ],
            [
             1,
             "#276419"
            ]
           ],
           "sequential": [
            [
             0,
             "#0d0887"
            ],
            [
             0.1111111111111111,
             "#46039f"
            ],
            [
             0.2222222222222222,
             "#7201a8"
            ],
            [
             0.3333333333333333,
             "#9c179e"
            ],
            [
             0.4444444444444444,
             "#bd3786"
            ],
            [
             0.5555555555555556,
             "#d8576b"
            ],
            [
             0.6666666666666666,
             "#ed7953"
            ],
            [
             0.7777777777777778,
             "#fb9f3a"
            ],
            [
             0.8888888888888888,
             "#fdca26"
            ],
            [
             1,
             "#f0f921"
            ]
           ],
           "sequentialminus": [
            [
             0,
             "#0d0887"
            ],
            [
             0.1111111111111111,
             "#46039f"
            ],
            [
             0.2222222222222222,
             "#7201a8"
            ],
            [
             0.3333333333333333,
             "#9c179e"
            ],
            [
             0.4444444444444444,
             "#bd3786"
            ],
            [
             0.5555555555555556,
             "#d8576b"
            ],
            [
             0.6666666666666666,
             "#ed7953"
            ],
            [
             0.7777777777777778,
             "#fb9f3a"
            ],
            [
             0.8888888888888888,
             "#fdca26"
            ],
            [
             1,
             "#f0f921"
            ]
           ]
          },
          "colorway": [
           "#636efa",
           "#EF553B",
           "#00cc96",
           "#ab63fa",
           "#FFA15A",
           "#19d3f3",
           "#FF6692",
           "#B6E880",
           "#FF97FF",
           "#FECB52"
          ],
          "font": {
           "color": "#2a3f5f"
          },
          "geo": {
           "bgcolor": "white",
           "lakecolor": "white",
           "landcolor": "#E5ECF6",
           "showlakes": true,
           "showland": true,
           "subunitcolor": "white"
          },
          "hoverlabel": {
           "align": "left"
          },
          "hovermode": "closest",
          "mapbox": {
           "style": "light"
          },
          "paper_bgcolor": "white",
          "plot_bgcolor": "#E5ECF6",
          "polar": {
           "angularaxis": {
            "gridcolor": "white",
            "linecolor": "white",
            "ticks": ""
           },
           "bgcolor": "#E5ECF6",
           "radialaxis": {
            "gridcolor": "white",
            "linecolor": "white",
            "ticks": ""
           }
          },
          "scene": {
           "xaxis": {
            "backgroundcolor": "#E5ECF6",
            "gridcolor": "white",
            "gridwidth": 2,
            "linecolor": "white",
            "showbackground": true,
            "ticks": "",
            "zerolinecolor": "white"
           },
           "yaxis": {
            "backgroundcolor": "#E5ECF6",
            "gridcolor": "white",
            "gridwidth": 2,
            "linecolor": "white",
            "showbackground": true,
            "ticks": "",
            "zerolinecolor": "white"
           },
           "zaxis": {
            "backgroundcolor": "#E5ECF6",
            "gridcolor": "white",
            "gridwidth": 2,
            "linecolor": "white",
            "showbackground": true,
            "ticks": "",
            "zerolinecolor": "white"
           }
          },
          "shapedefaults": {
           "line": {
            "color": "#2a3f5f"
           }
          },
          "ternary": {
           "aaxis": {
            "gridcolor": "white",
            "linecolor": "white",
            "ticks": ""
           },
           "baxis": {
            "gridcolor": "white",
            "linecolor": "white",
            "ticks": ""
           },
           "bgcolor": "#E5ECF6",
           "caxis": {
            "gridcolor": "white",
            "linecolor": "white",
            "ticks": ""
           }
          },
          "title": {
           "x": 0.05
          },
          "xaxis": {
           "automargin": true,
           "gridcolor": "white",
           "linecolor": "white",
           "ticks": "",
           "title": {
            "standoff": 15
           },
           "zerolinecolor": "white",
           "zerolinewidth": 2
          },
          "yaxis": {
           "automargin": true,
           "gridcolor": "white",
           "linecolor": "white",
           "ticks": "",
           "title": {
            "standoff": 15
           },
           "zerolinecolor": "white",
           "zerolinewidth": 2
          }
         }
        },
        "title": {
         "text": "Dashboard of Publications by Month"
        },
        "xaxis": {
         "anchor": "y",
         "domain": [
          0,
          1
         ]
        },
        "xaxis2": {
         "anchor": "y2",
         "domain": [
          0,
          1
         ]
        },
        "yaxis": {
         "anchor": "x",
         "domain": [
          0.7333333333333334,
          1
         ]
        },
        "yaxis2": {
         "anchor": "x2",
         "domain": [
          0.3666666666666667,
          0.6333333333333333
         ]
        }
       }
      },
      "text/html": [
       "<div>                            <div id=\"0057d9fe-d92c-41e7-a658-2e915eb3fac7\" class=\"plotly-graph-div\" style=\"height:800px; width:100%;\"></div>            <script type=\"text/javascript\">                require([\"plotly\"], function(Plotly) {                    window.PLOTLYENV=window.PLOTLYENV || {};                                    if (document.getElementById(\"0057d9fe-d92c-41e7-a658-2e915eb3fac7\")) {                    Plotly.newPlot(                        \"0057d9fe-d92c-41e7-a658-2e915eb3fac7\",                        [{\"name\": \"Bar Chart of # Publications by Month\", \"type\": \"bar\", \"x\": [11.0, 12.0, 10.0, 9.0, 8.0, 6.0, 7.0, 5.0, 4.0, 3.0, 1.0], \"xaxis\": \"x\", \"y\": [183, 157, 155, 112, 61, 36, 34, 22, 9, 1, 1], \"yaxis\": \"y\"}, {\"type\": \"box\", \"x\": [183, 157, 155, 112, 61, 36, 34, 22, 9, 1, 1], \"xaxis\": \"x2\", \"yaxis\": \"y2\"}, {\"cells\": {\"values\": [[\"count\", \"mean\", \"std\", \"min\", \"25%\", \"50%\", \"75%\", \"max\"], [11.0, 70.0909090909091, 68.8526753953026, 1.0, 15.5, 36.0, 133.5, 183.0]]}, \"domain\": {\"x\": [0.0, 1.0], \"y\": [0.0, 0.26666666666666666]}, \"header\": {\"values\": [\"Stat\", \"Value\"]}, \"type\": \"table\"}],                        {\"annotations\": [{\"font\": {\"size\": 16}, \"showarrow\": false, \"text\": \"Bar Chart of # Publications by Month\", \"x\": 0.5, \"xanchor\": \"center\", \"xref\": \"paper\", \"y\": 1.0, \"yanchor\": \"bottom\", \"yref\": \"paper\"}, {\"font\": {\"size\": 16}, \"showarrow\": false, \"text\": \"Boxplot of # Publications by Month\", \"x\": 0.5, \"xanchor\": \"center\", \"xref\": \"paper\", \"y\": 0.6333333333333333, \"yanchor\": \"bottom\", \"yref\": \"paper\"}, {\"font\": {\"size\": 16}, \"showarrow\": false, \"text\": \"Summary Statistics of # Publications by Month\", \"x\": 0.5, \"xanchor\": \"center\", \"xref\": \"paper\", \"y\": 0.26666666666666666, \"yanchor\": \"bottom\", \"yref\": \"paper\"}], \"height\": 800, \"showlegend\": false, \"template\": {\"data\": {\"bar\": [{\"error_x\": {\"color\": \"#2a3f5f\"}, \"error_y\": {\"color\": \"#2a3f5f\"}, \"marker\": {\"line\": {\"color\": \"#E5ECF6\", \"width\": 0.5}}, \"type\": \"bar\"}], \"barpolar\": [{\"marker\": {\"line\": {\"color\": \"#E5ECF6\", \"width\": 0.5}}, \"type\": \"barpolar\"}], \"carpet\": [{\"aaxis\": {\"endlinecolor\": \"#2a3f5f\", \"gridcolor\": \"white\", \"linecolor\": \"white\", \"minorgridcolor\": \"white\", \"startlinecolor\": \"#2a3f5f\"}, \"baxis\": {\"endlinecolor\": \"#2a3f5f\", \"gridcolor\": \"white\", \"linecolor\": \"white\", \"minorgridcolor\": \"white\", \"startlinecolor\": \"#2a3f5f\"}, \"type\": \"carpet\"}], \"choropleth\": [{\"colorbar\": {\"outlinewidth\": 0, \"ticks\": \"\"}, \"type\": \"choropleth\"}], \"contour\": [{\"colorbar\": {\"outlinewidth\": 0, \"ticks\": \"\"}, \"colorscale\": [[0.0, \"#0d0887\"], [0.1111111111111111, \"#46039f\"], [0.2222222222222222, \"#7201a8\"], [0.3333333333333333, \"#9c179e\"], [0.4444444444444444, \"#bd3786\"], [0.5555555555555556, \"#d8576b\"], [0.6666666666666666, \"#ed7953\"], [0.7777777777777778, \"#fb9f3a\"], [0.8888888888888888, \"#fdca26\"], [1.0, \"#f0f921\"]], \"type\": \"contour\"}], \"contourcarpet\": [{\"colorbar\": {\"outlinewidth\": 0, \"ticks\": \"\"}, \"type\": \"contourcarpet\"}], \"heatmap\": [{\"colorbar\": {\"outlinewidth\": 0, \"ticks\": \"\"}, \"colorscale\": [[0.0, \"#0d0887\"], [0.1111111111111111, \"#46039f\"], [0.2222222222222222, \"#7201a8\"], [0.3333333333333333, \"#9c179e\"], [0.4444444444444444, \"#bd3786\"], [0.5555555555555556, \"#d8576b\"], [0.6666666666666666, \"#ed7953\"], [0.7777777777777778, \"#fb9f3a\"], [0.8888888888888888, \"#fdca26\"], [1.0, \"#f0f921\"]], \"type\": \"heatmap\"}], \"heatmapgl\": [{\"colorbar\": {\"outlinewidth\": 0, \"ticks\": \"\"}, \"colorscale\": [[0.0, \"#0d0887\"], [0.1111111111111111, \"#46039f\"], [0.2222222222222222, \"#7201a8\"], [0.3333333333333333, \"#9c179e\"], [0.4444444444444444, \"#bd3786\"], [0.5555555555555556, \"#d8576b\"], [0.6666666666666666, \"#ed7953\"], [0.7777777777777778, \"#fb9f3a\"], [0.8888888888888888, \"#fdca26\"], [1.0, \"#f0f921\"]], \"type\": \"heatmapgl\"}], \"histogram\": [{\"marker\": {\"colorbar\": {\"outlinewidth\": 0, \"ticks\": \"\"}}, \"type\": \"histogram\"}], \"histogram2d\": [{\"colorbar\": {\"outlinewidth\": 0, \"ticks\": \"\"}, \"colorscale\": [[0.0, \"#0d0887\"], [0.1111111111111111, \"#46039f\"], [0.2222222222222222, \"#7201a8\"], [0.3333333333333333, \"#9c179e\"], [0.4444444444444444, \"#bd3786\"], [0.5555555555555556, \"#d8576b\"], [0.6666666666666666, \"#ed7953\"], [0.7777777777777778, \"#fb9f3a\"], [0.8888888888888888, \"#fdca26\"], [1.0, \"#f0f921\"]], \"type\": \"histogram2d\"}], \"histogram2dcontour\": [{\"colorbar\": {\"outlinewidth\": 0, \"ticks\": \"\"}, \"colorscale\": [[0.0, \"#0d0887\"], [0.1111111111111111, \"#46039f\"], [0.2222222222222222, \"#7201a8\"], [0.3333333333333333, \"#9c179e\"], [0.4444444444444444, \"#bd3786\"], [0.5555555555555556, \"#d8576b\"], [0.6666666666666666, \"#ed7953\"], [0.7777777777777778, \"#fb9f3a\"], [0.8888888888888888, \"#fdca26\"], [1.0, \"#f0f921\"]], \"type\": \"histogram2dcontour\"}], \"mesh3d\": [{\"colorbar\": {\"outlinewidth\": 0, \"ticks\": \"\"}, \"type\": \"mesh3d\"}], \"parcoords\": [{\"line\": {\"colorbar\": {\"outlinewidth\": 0, \"ticks\": \"\"}}, \"type\": \"parcoords\"}], \"pie\": [{\"automargin\": true, \"type\": \"pie\"}], \"scatter\": [{\"marker\": {\"colorbar\": {\"outlinewidth\": 0, \"ticks\": \"\"}}, \"type\": \"scatter\"}], \"scatter3d\": [{\"line\": {\"colorbar\": {\"outlinewidth\": 0, \"ticks\": \"\"}}, \"marker\": {\"colorbar\": {\"outlinewidth\": 0, \"ticks\": \"\"}}, \"type\": \"scatter3d\"}], \"scattercarpet\": [{\"marker\": {\"colorbar\": {\"outlinewidth\": 0, \"ticks\": \"\"}}, \"type\": \"scattercarpet\"}], \"scattergeo\": [{\"marker\": {\"colorbar\": {\"outlinewidth\": 0, \"ticks\": \"\"}}, \"type\": \"scattergeo\"}], \"scattergl\": [{\"marker\": {\"colorbar\": {\"outlinewidth\": 0, \"ticks\": \"\"}}, \"type\": \"scattergl\"}], \"scattermapbox\": [{\"marker\": {\"colorbar\": {\"outlinewidth\": 0, \"ticks\": \"\"}}, \"type\": \"scattermapbox\"}], \"scatterpolar\": [{\"marker\": {\"colorbar\": {\"outlinewidth\": 0, \"ticks\": \"\"}}, \"type\": \"scatterpolar\"}], \"scatterpolargl\": [{\"marker\": {\"colorbar\": {\"outlinewidth\": 0, \"ticks\": \"\"}}, \"type\": \"scatterpolargl\"}], \"scatterternary\": [{\"marker\": {\"colorbar\": {\"outlinewidth\": 0, \"ticks\": \"\"}}, \"type\": \"scatterternary\"}], \"surface\": [{\"colorbar\": {\"outlinewidth\": 0, \"ticks\": \"\"}, \"colorscale\": [[0.0, \"#0d0887\"], [0.1111111111111111, \"#46039f\"], [0.2222222222222222, \"#7201a8\"], [0.3333333333333333, \"#9c179e\"], [0.4444444444444444, \"#bd3786\"], [0.5555555555555556, \"#d8576b\"], [0.6666666666666666, \"#ed7953\"], [0.7777777777777778, \"#fb9f3a\"], [0.8888888888888888, \"#fdca26\"], [1.0, \"#f0f921\"]], \"type\": \"surface\"}], \"table\": [{\"cells\": {\"fill\": {\"color\": \"#EBF0F8\"}, \"line\": {\"color\": \"white\"}}, \"header\": {\"fill\": {\"color\": \"#C8D4E3\"}, \"line\": {\"color\": \"white\"}}, \"type\": \"table\"}]}, \"layout\": {\"annotationdefaults\": {\"arrowcolor\": \"#2a3f5f\", \"arrowhead\": 0, \"arrowwidth\": 1}, \"autotypenumbers\": \"strict\", \"coloraxis\": {\"colorbar\": {\"outlinewidth\": 0, \"ticks\": \"\"}}, \"colorscale\": {\"diverging\": [[0, \"#8e0152\"], [0.1, \"#c51b7d\"], [0.2, \"#de77ae\"], [0.3, \"#f1b6da\"], [0.4, \"#fde0ef\"], [0.5, \"#f7f7f7\"], [0.6, \"#e6f5d0\"], [0.7, \"#b8e186\"], [0.8, \"#7fbc41\"], [0.9, \"#4d9221\"], [1, \"#276419\"]], \"sequential\": [[0.0, \"#0d0887\"], [0.1111111111111111, \"#46039f\"], [0.2222222222222222, \"#7201a8\"], [0.3333333333333333, \"#9c179e\"], [0.4444444444444444, \"#bd3786\"], [0.5555555555555556, \"#d8576b\"], [0.6666666666666666, \"#ed7953\"], [0.7777777777777778, \"#fb9f3a\"], [0.8888888888888888, \"#fdca26\"], [1.0, \"#f0f921\"]], \"sequentialminus\": [[0.0, \"#0d0887\"], [0.1111111111111111, \"#46039f\"], [0.2222222222222222, \"#7201a8\"], [0.3333333333333333, \"#9c179e\"], [0.4444444444444444, \"#bd3786\"], [0.5555555555555556, \"#d8576b\"], [0.6666666666666666, \"#ed7953\"], [0.7777777777777778, \"#fb9f3a\"], [0.8888888888888888, \"#fdca26\"], [1.0, \"#f0f921\"]]}, \"colorway\": [\"#636efa\", \"#EF553B\", \"#00cc96\", \"#ab63fa\", \"#FFA15A\", \"#19d3f3\", \"#FF6692\", \"#B6E880\", \"#FF97FF\", \"#FECB52\"], \"font\": {\"color\": \"#2a3f5f\"}, \"geo\": {\"bgcolor\": \"white\", \"lakecolor\": \"white\", \"landcolor\": \"#E5ECF6\", \"showlakes\": true, \"showland\": true, \"subunitcolor\": \"white\"}, \"hoverlabel\": {\"align\": \"left\"}, \"hovermode\": \"closest\", \"mapbox\": {\"style\": \"light\"}, \"paper_bgcolor\": \"white\", \"plot_bgcolor\": \"#E5ECF6\", \"polar\": {\"angularaxis\": {\"gridcolor\": \"white\", \"linecolor\": \"white\", \"ticks\": \"\"}, \"bgcolor\": \"#E5ECF6\", \"radialaxis\": {\"gridcolor\": \"white\", \"linecolor\": \"white\", \"ticks\": \"\"}}, \"scene\": {\"xaxis\": {\"backgroundcolor\": \"#E5ECF6\", \"gridcolor\": \"white\", \"gridwidth\": 2, \"linecolor\": \"white\", \"showbackground\": true, \"ticks\": \"\", \"zerolinecolor\": \"white\"}, \"yaxis\": {\"backgroundcolor\": \"#E5ECF6\", \"gridcolor\": \"white\", \"gridwidth\": 2, \"linecolor\": \"white\", \"showbackground\": true, \"ticks\": \"\", \"zerolinecolor\": \"white\"}, \"zaxis\": {\"backgroundcolor\": \"#E5ECF6\", \"gridcolor\": \"white\", \"gridwidth\": 2, \"linecolor\": \"white\", \"showbackground\": true, \"ticks\": \"\", \"zerolinecolor\": \"white\"}}, \"shapedefaults\": {\"line\": {\"color\": \"#2a3f5f\"}}, \"ternary\": {\"aaxis\": {\"gridcolor\": \"white\", \"linecolor\": \"white\", \"ticks\": \"\"}, \"baxis\": {\"gridcolor\": \"white\", \"linecolor\": \"white\", \"ticks\": \"\"}, \"bgcolor\": \"#E5ECF6\", \"caxis\": {\"gridcolor\": \"white\", \"linecolor\": \"white\", \"ticks\": \"\"}}, \"title\": {\"x\": 0.05}, \"xaxis\": {\"automargin\": true, \"gridcolor\": \"white\", \"linecolor\": \"white\", \"ticks\": \"\", \"title\": {\"standoff\": 15}, \"zerolinecolor\": \"white\", \"zerolinewidth\": 2}, \"yaxis\": {\"automargin\": true, \"gridcolor\": \"white\", \"linecolor\": \"white\", \"ticks\": \"\", \"title\": {\"standoff\": 15}, \"zerolinecolor\": \"white\", \"zerolinewidth\": 2}}}, \"title\": {\"text\": \"Dashboard of Publications by Month\"}, \"xaxis\": {\"anchor\": \"y\", \"domain\": [0.0, 1.0]}, \"xaxis2\": {\"anchor\": \"y2\", \"domain\": [0.0, 1.0]}, \"yaxis\": {\"anchor\": \"x\", \"domain\": [0.7333333333333334, 1.0]}, \"yaxis2\": {\"anchor\": \"x2\", \"domain\": [0.3666666666666667, 0.6333333333333333]}},                        {\"responsive\": true}                    ).then(function(){\n",
       "                            \n",
       "var gd = document.getElementById('0057d9fe-d92c-41e7-a658-2e915eb3fac7');\n",
       "var x = new MutationObserver(function (mutations, observer) {{\n",
       "        var display = window.getComputedStyle(gd).display;\n",
       "        if (!display || display === 'none') {{\n",
       "            console.log([gd, 'removed!']);\n",
       "            Plotly.purge(gd);\n",
       "            observer.disconnect();\n",
       "        }}\n",
       "}});\n",
       "\n",
       "// Listen for the removal of the full notebook cells\n",
       "var notebookContainer = gd.closest('#notebook-container');\n",
       "if (notebookContainer) {{\n",
       "    x.observe(notebookContainer, {childList: true});\n",
       "}}\n",
       "\n",
       "// Listen for the clearing of the current output cell\n",
       "var outputEl = gd.closest('.output');\n",
       "if (outputEl) {{\n",
       "    x.observe(outputEl, {childList: true});\n",
       "}}\n",
       "\n",
       "                        })                };                });            </script>        </div>"
      ]
     },
     "metadata": {},
     "output_type": "display_data"
    }
   ],
   "source": [
    "#create dashboard to visualize publications by month, trend over time, and summary statistics\n",
    "\n",
    "#define subplot figure contents\n",
    "fig = make_subplots(\n",
    "    rows=3, cols=1,\n",
    "    subplot_titles=(\"Bar Chart of # Publications by Month\", \"Boxplot of # Publications by Month\", \"Summary Statistics of # Publications by Month\"),\n",
    "    shared_xaxes=False,\n",
    "    vertical_spacing=0.1,\n",
    "    specs=[[{\"type\": \"bar\"}],\n",
    "           [{\"type\": \"box\"}],\n",
    "           [{\"type\": \"table\"}]])\n",
    "\n",
    "#create histogram in first row\n",
    "fig.add_trace(go.Bar(x=pubs_by_month.index, y=pubs_by_month.values, name='Bar Chart of # Publications by Month'), row=1, col=1 )\n",
    "\n",
    "\n",
    "#create boxplot in second row\n",
    "fig.add_trace(go.Box(x=pubs_by_month), row=2,col=1 )\n",
    "\n",
    "#create summary statistics table in thirs row\n",
    "fig.add_trace(go.Table(header=dict(values=['Stat', 'Value']), \n",
    "                       cells=dict(values=[pubs_by_month_summary.index, pubs_by_month_summary.values])), row=3, col=1)\n",
    "\n",
    "#define layout\n",
    "fig.update_layout(\n",
    "    height=800,\n",
    "    showlegend=False,\n",
    "    title_text=\"Dashboard of Publications by Month\")\n",
    "\n",
    "fig.show()"
   ]
  },
  {
   "cell_type": "code",
   "execution_count": null,
   "metadata": {
    "id": "Hu76UYo-ylY_"
   },
   "outputs": [],
   "source": []
  }
 ],
 "metadata": {
  "colab": {
   "collapsed_sections": [],
   "name": "Group 9 Project Code.ipynb",
   "provenance": []
  },
  "kernelspec": {
   "display_name": "Python 3",
   "language": "python",
   "name": "python3"
  },
  "language_info": {
   "codemirror_mode": {
    "name": "ipython",
    "version": 3
   },
   "file_extension": ".py",
   "mimetype": "text/x-python",
   "name": "python",
   "nbconvert_exporter": "python",
   "pygments_lexer": "ipython3",
   "version": "3.8.3"
  }
 },
 "nbformat": 4,
 "nbformat_minor": 1
}
